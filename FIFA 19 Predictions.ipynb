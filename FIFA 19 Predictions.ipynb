{
 "cells": [
  {
   "cell_type": "code",
   "execution_count": 2,
   "metadata": {},
   "outputs": [],
   "source": [
    "import pandas as pd\n",
    "import numpy as np\n",
    "import matplotlib.pyplot as plt\n",
    "from sklearn.model_selection import train_test_split\n",
    "from sklearn.linear_model import LinearRegression\n",
    "from sklearn.metrics import mean_squared_error, r2_score"
   ]
  },
  {
   "cell_type": "code",
   "execution_count": 3,
   "metadata": {},
   "outputs": [],
   "source": [
    "data  = pd.read_csv('fifa19data.csv')"
   ]
  },
  {
   "cell_type": "code",
   "execution_count": 4,
   "metadata": {},
   "outputs": [
    {
     "data": {
      "text/plain": [
       "Index(['Unnamed: 0', 'ID', 'Name', 'Age', 'Photo', 'Nationality', 'Flag',\n",
       "       'Overall', 'Potential', 'Club', 'Club Logo', 'Value', 'Wage', 'Special',\n",
       "       'Preferred Foot', 'International Reputation', 'Weak Foot',\n",
       "       'Skill Moves', 'Work Rate', 'Body Type', 'Real Face', 'Position',\n",
       "       'Jersey Number', 'Joined', 'Loaned From', 'Contract Valid Until',\n",
       "       'Height', 'Weight', 'LS', 'ST', 'RS', 'LW', 'LF', 'CF', 'RF', 'RW',\n",
       "       'LAM', 'CAM', 'RAM', 'LM', 'LCM', 'CM', 'RCM', 'RM', 'LWB', 'LDM',\n",
       "       'CDM', 'RDM', 'RWB', 'LB', 'LCB', 'CB', 'RCB', 'RB', 'Crossing',\n",
       "       'Finishing', 'HeadingAccuracy', 'ShortPassing', 'Volleys', 'Dribbling',\n",
       "       'Curve', 'FKAccuracy', 'LongPassing', 'BallControl', 'Acceleration',\n",
       "       'SprintSpeed', 'Agility', 'Reactions', 'Balance', 'ShotPower',\n",
       "       'Jumping', 'Stamina', 'Strength', 'LongShots', 'Aggression',\n",
       "       'Interceptions', 'Positioning', 'Vision', 'Penalties', 'Composure',\n",
       "       'Marking', 'StandingTackle', 'SlidingTackle', 'GKDiving', 'GKHandling',\n",
       "       'GKKicking', 'GKPositioning', 'GKReflexes', 'Release Clause'],\n",
       "      dtype='object')"
      ]
     },
     "execution_count": 4,
     "metadata": {},
     "output_type": "execute_result"
    }
   ],
   "source": [
    "data.columns"
   ]
  },
  {
   "cell_type": "code",
   "execution_count": null,
   "metadata": {},
   "outputs": [],
   "source": []
  },
  {
   "cell_type": "markdown",
   "metadata": {},
   "source": [
    "## Select the U-23 Players from the Database"
   ]
  },
  {
   "cell_type": "code",
   "execution_count": 5,
   "metadata": {},
   "outputs": [],
   "source": [
    "u23 = data[data.Age <=23]"
   ]
  },
  {
   "cell_type": "markdown",
   "metadata": {},
   "source": [
    "### Type 1: Select all the Attributes of a player and apply Linear Regression Model on it."
   ]
  },
  {
   "cell_type": "code",
   "execution_count": 6,
   "metadata": {},
   "outputs": [],
   "source": [
    "u23 = u23[['Name','Overall', 'Potential','Age','Crossing','Position',\n",
    "       'Finishing', 'HeadingAccuracy', 'ShortPassing', 'Volleys', 'Dribbling',\n",
    "       'Curve', 'FKAccuracy', 'LongPassing', 'BallControl', 'Acceleration',\n",
    "       'SprintSpeed', 'Agility', 'Reactions', 'Balance', 'ShotPower',\n",
    "       'Jumping', 'Stamina', 'Strength', 'LongShots', 'Aggression',\n",
    "       'Interceptions', 'Positioning', 'Vision', 'Penalties', 'Composure',\n",
    "       'Marking', 'StandingTackle', 'SlidingTackle', 'GKDiving', 'GKHandling',\n",
    "       'GKKicking', 'GKPositioning', 'GKReflexes']]\n",
    "u23.dropna(inplace = True)"
   ]
  },
  {
   "cell_type": "code",
   "execution_count": 7,
   "metadata": {},
   "outputs": [],
   "source": [
    "u23.reset_index(drop = True, inplace = True)"
   ]
  },
  {
   "cell_type": "code",
   "execution_count": 7,
   "metadata": {},
   "outputs": [],
   "source": [
    "x = u23[['Overall','Age','Crossing',\n",
    "       'Finishing', 'HeadingAccuracy', 'ShortPassing', 'Volleys', 'Dribbling',\n",
    "       'Curve', 'FKAccuracy', 'LongPassing', 'BallControl', 'Acceleration',\n",
    "       'SprintSpeed', 'Agility', 'Reactions', 'Balance', 'ShotPower',\n",
    "       'Jumping', 'Stamina', 'Strength', 'LongShots', 'Aggression',\n",
    "       'Interceptions', 'Positioning', 'Vision', 'Penalties', 'Composure',\n",
    "       'Marking', 'StandingTackle', 'SlidingTackle', 'GKDiving', 'GKHandling',\n",
    "       'GKKicking', 'GKPositioning', 'GKReflexes']]\n",
    "y = u23['Potential']"
   ]
  },
  {
   "cell_type": "code",
   "execution_count": null,
   "metadata": {},
   "outputs": [],
   "source": []
  },
  {
   "cell_type": "code",
   "execution_count": 8,
   "metadata": {},
   "outputs": [],
   "source": [
    "x_train, x_test, y_train, y_test = train_test_split(x,y, test_size = 0.20, random_state = 0)"
   ]
  },
  {
   "cell_type": "code",
   "execution_count": 9,
   "metadata": {},
   "outputs": [],
   "source": [
    "r = LinearRegression()"
   ]
  },
  {
   "cell_type": "code",
   "execution_count": 10,
   "metadata": {},
   "outputs": [
    {
     "data": {
      "text/plain": [
       "LinearRegression(copy_X=True, fit_intercept=True, n_jobs=None, normalize=False)"
      ]
     },
     "execution_count": 10,
     "metadata": {},
     "output_type": "execute_result"
    }
   ],
   "source": [
    "r.fit(x_train,y_train)"
   ]
  },
  {
   "cell_type": "code",
   "execution_count": 11,
   "metadata": {},
   "outputs": [],
   "source": [
    "predicted = r.predict(x_test)"
   ]
  },
  {
   "cell_type": "markdown",
   "metadata": {},
   "source": [
    "#### Perform Evaluation of the Regression Model"
   ]
  },
  {
   "cell_type": "code",
   "execution_count": 12,
   "metadata": {},
   "outputs": [],
   "source": [
    "rm = mean_squared_error(y_test,predicted)\n",
    "r2 = r2_score(y_test,predicted)"
   ]
  },
  {
   "cell_type": "code",
   "execution_count": 13,
   "metadata": {},
   "outputs": [
    {
     "name": "stdout",
     "output_type": "stream",
     "text": [
      "Intercept : 50.11713129219948\n",
      "Root mean square error : 5.78682634131874\n",
      "R2 score : 0.8494163178328994\n"
     ]
    }
   ],
   "source": [
    "print('Intercept :', r.intercept_)\n",
    "print('Root mean square error :', rm)\n",
    "print('R2 score :', r2)"
   ]
  },
  {
   "cell_type": "markdown",
   "metadata": {},
   "source": [
    "The R2 score of 84.94% seems pretty good indicating a successful model implementation."
   ]
  },
  {
   "cell_type": "markdown",
   "metadata": {},
   "source": [
    "#### Put the Predicted and Actual Potential Values in a DataFrame"
   ]
  },
  {
   "cell_type": "code",
   "execution_count": 14,
   "metadata": {},
   "outputs": [],
   "source": [
    "predictedu23 = pd.DataFrame(predicted, columns = ['Predicted Potential'])\n",
    "predictedu23.reset_index(drop = True, inplace = True)"
   ]
  },
  {
   "cell_type": "code",
   "execution_count": 15,
   "metadata": {},
   "outputs": [],
   "source": [
    "actualu23 = pd.DataFrame(y_test)\n",
    "actualu23.reset_index(drop = True, inplace = True)"
   ]
  },
  {
   "cell_type": "code",
   "execution_count": 16,
   "metadata": {},
   "outputs": [],
   "source": [
    "appliedu23 = pd.concat([predictedu23,actualu23], axis = 1,sort = False)"
   ]
  },
  {
   "cell_type": "code",
   "execution_count": 17,
   "metadata": {},
   "outputs": [],
   "source": [
    "appliedu23.rename(columns ={'Potential':'Actual Potential'}, inplace = True)"
   ]
  },
  {
   "cell_type": "code",
   "execution_count": 18,
   "metadata": {},
   "outputs": [],
   "source": [
    "appliedu23['Predicted Potential'] = appliedu23['Predicted Potential'].round()"
   ]
  },
  {
   "cell_type": "code",
   "execution_count": null,
   "metadata": {},
   "outputs": [],
   "source": []
  },
  {
   "cell_type": "code",
   "execution_count": 19,
   "metadata": {},
   "outputs": [],
   "source": [
    "scatterplot = appliedu23.head(25)"
   ]
  },
  {
   "cell_type": "code",
   "execution_count": 20,
   "metadata": {},
   "outputs": [],
   "source": [
    "scatterplot.reset_index(inplace = True)"
   ]
  },
  {
   "cell_type": "code",
   "execution_count": 21,
   "metadata": {},
   "outputs": [
    {
     "name": "stderr",
     "output_type": "stream",
     "text": [
      "C:\\ProgramData\\Anaconda3\\lib\\site-packages\\ipykernel_launcher.py:1: SettingWithCopyWarning: \n",
      "A value is trying to be set on a copy of a slice from a DataFrame.\n",
      "Try using .loc[row_indexer,col_indexer] = value instead\n",
      "\n",
      "See the caveats in the documentation: http://pandas.pydata.org/pandas-docs/stable/indexing.html#indexing-view-versus-copy\n",
      "  \"\"\"Entry point for launching an IPython kernel.\n"
     ]
    }
   ],
   "source": [
    "scatterplot['Predicted Potential'] = scatterplot['Predicted Potential'].astype(int)"
   ]
  },
  {
   "cell_type": "markdown",
   "metadata": {},
   "source": [
    "#### Draw a Scatter Plot to see the Actual Potential vs the Predicted Potential"
   ]
  },
  {
   "cell_type": "code",
   "execution_count": 22,
   "metadata": {},
   "outputs": [
    {
     "data": {
      "text/plain": [
       "Text(0, 0.5, 'Potential')"
      ]
     },
     "execution_count": 22,
     "metadata": {},
     "output_type": "execute_result"
    },
    {
     "data": {
      "image/png": "[encoded data removed]",
      "text/plain": [
       "<Figure size 1080x720 with 1 Axes>"
      ]
     },
     "metadata": {
      "needs_background": "light"
     },
     "output_type": "display_data"
    }
   ],
   "source": [
    "ax = scatterplot.plot.scatter(x = 'index', y = 'Actual Potential',\n",
    "                              color = 'red', figsize =(15,10), s= 40, label = 'Actual Potential' )\n",
    "scatterplot.plot.scatter(x = 'index', y ='Predicted Potential',\n",
    "                         color = 'green',s= 40,label = 'Predicted Potential', alpha = 0.5, ax = ax)\n",
    "plt.title('A Scatter Plot displaying Actual Potential vs Predicted Potential', \n",
    "          fontsize = 23, color = 'navy',fontweight=\"bold\")\n",
    "plt.xlabel('Index', fontsize = 100, color = 'navy')\n",
    "plt.ylabel('Potential', fontsize = 100, color = 'navy')"
   ]
  },
  {
   "cell_type": "markdown",
   "metadata": {},
   "source": [
    "### Type 2: Select Attributes of players in relation to the position they play and apply Linear Regression Model"
   ]
  },
  {
   "cell_type": "markdown",
   "metadata": {},
   "source": [
    "##### We will divide all the positions into following 8 categories:\n",
    "##### Goalkeepers, Centre Backs, Full Backs, Defensive Midfielders, Pure Midfielders, Attacking Midfielders, Wingers/Wide Midfielders, Strikers/Centre Forwards."
   ]
  },
  {
   "cell_type": "code",
   "execution_count": 275,
   "metadata": {},
   "outputs": [
    {
     "name": "stdout",
     "output_type": "stream",
     "text": [
      "Total Unique Positions for U-23 Players are :  27\n",
      "Number of U-23 Players per position :\n",
      "\n",
      " ST     933\n",
      "CM     808\n",
      "CB     805\n",
      "GK     777\n",
      "RM     514\n",
      "LB     504\n",
      "RB     501\n",
      "LM     484\n",
      "CAM    435\n",
      "CDM    379\n",
      "LW     220\n",
      "RW     206\n",
      "LCB    153\n",
      "RCB    136\n",
      "LCM    114\n",
      "RCM    114\n",
      "LDM     60\n",
      "RDM     51\n",
      "LS      50\n",
      "RS      46\n",
      "RWB     39\n",
      "CF      39\n",
      "LWB     24\n",
      "RF       3\n",
      "LF       2\n",
      "RAM      1\n",
      "LAM      1\n",
      "Name: Position, dtype: int64\n"
     ]
    }
   ],
   "source": [
    "print('Total Unique Positions for U-23 Players are : ', len(u23.Position.unique()))\n",
    "print('Number of U-23 Players per position :\\n\\n',u23.Position.value_counts())"
   ]
  },
  {
   "cell_type": "markdown",
   "metadata": {},
   "source": [
    "###### A) GOALKEEPER"
   ]
  },
  {
   "cell_type": "code",
   "execution_count": 123,
   "metadata": {},
   "outputs": [],
   "source": [
    "u23gk = u23[u23.Position.isin(['GK'])]"
   ]
  },
  {
   "cell_type": "code",
   "execution_count": 124,
   "metadata": {},
   "outputs": [],
   "source": [
    "u23gk.reset_index(drop = True, inplace = True)"
   ]
  },
  {
   "cell_type": "code",
   "execution_count": 125,
   "metadata": {},
   "outputs": [],
   "source": [
    "u23gk = u23gk[['Name', 'Age','Overall', 'Potential','GKDiving', 'GKHandling',\n",
    "       'GKKicking', 'GKPositioning', 'GKReflexes']]"
   ]
  },
  {
   "cell_type": "markdown",
   "metadata": {},
   "source": [
    "Get the Correlation data to find the dependancy of paramaters on each other."
   ]
  },
  {
   "cell_type": "code",
   "execution_count": 126,
   "metadata": {},
   "outputs": [
    {
     "data": {
      "text/html": [
       "<div>\n",
       "<style scoped>\n",
       "    .dataframe tbody tr th:only-of-type {\n",
       "        vertical-align: middle;\n",
       "    }\n",
       "\n",
       "    .dataframe tbody tr th {\n",
       "        vertical-align: top;\n",
       "    }\n",
       "\n",
       "    .dataframe thead th {\n",
       "        text-align: right;\n",
       "    }\n",
       "</style>\n",
       "<table border=\"1\" class=\"dataframe\">\n",
       "  <thead>\n",
       "    <tr style=\"text-align: right;\">\n",
       "      <th></th>\n",
       "      <th>Age</th>\n",
       "      <th>Overall</th>\n",
       "      <th>Potential</th>\n",
       "      <th>GKDiving</th>\n",
       "      <th>GKHandling</th>\n",
       "      <th>GKKicking</th>\n",
       "      <th>GKPositioning</th>\n",
       "      <th>GKReflexes</th>\n",
       "    </tr>\n",
       "  </thead>\n",
       "  <tbody>\n",
       "    <tr>\n",
       "      <th>Age</th>\n",
       "      <td>1.000000</td>\n",
       "      <td>0.435871</td>\n",
       "      <td>-0.071046</td>\n",
       "      <td>0.372472</td>\n",
       "      <td>0.351524</td>\n",
       "      <td>0.303113</td>\n",
       "      <td>0.414780</td>\n",
       "      <td>0.368248</td>\n",
       "    </tr>\n",
       "    <tr>\n",
       "      <th>Overall</th>\n",
       "      <td>0.435871</td>\n",
       "      <td>1.000000</td>\n",
       "      <td>0.783863</td>\n",
       "      <td>0.908795</td>\n",
       "      <td>0.877514</td>\n",
       "      <td>0.748268</td>\n",
       "      <td>0.908937</td>\n",
       "      <td>0.922749</td>\n",
       "    </tr>\n",
       "    <tr>\n",
       "      <th>Potential</th>\n",
       "      <td>-0.071046</td>\n",
       "      <td>0.783863</td>\n",
       "      <td>1.000000</td>\n",
       "      <td>0.724274</td>\n",
       "      <td>0.705618</td>\n",
       "      <td>0.601537</td>\n",
       "      <td>0.708553</td>\n",
       "      <td>0.744641</td>\n",
       "    </tr>\n",
       "    <tr>\n",
       "      <th>GKDiving</th>\n",
       "      <td>0.372472</td>\n",
       "      <td>0.908795</td>\n",
       "      <td>0.724274</td>\n",
       "      <td>1.000000</td>\n",
       "      <td>0.727363</td>\n",
       "      <td>0.655789</td>\n",
       "      <td>0.770441</td>\n",
       "      <td>0.846061</td>\n",
       "    </tr>\n",
       "    <tr>\n",
       "      <th>GKHandling</th>\n",
       "      <td>0.351524</td>\n",
       "      <td>0.877514</td>\n",
       "      <td>0.705618</td>\n",
       "      <td>0.727363</td>\n",
       "      <td>1.000000</td>\n",
       "      <td>0.665902</td>\n",
       "      <td>0.785778</td>\n",
       "      <td>0.750891</td>\n",
       "    </tr>\n",
       "    <tr>\n",
       "      <th>GKKicking</th>\n",
       "      <td>0.303113</td>\n",
       "      <td>0.748268</td>\n",
       "      <td>0.601537</td>\n",
       "      <td>0.655789</td>\n",
       "      <td>0.665902</td>\n",
       "      <td>1.000000</td>\n",
       "      <td>0.699637</td>\n",
       "      <td>0.648514</td>\n",
       "    </tr>\n",
       "    <tr>\n",
       "      <th>GKPositioning</th>\n",
       "      <td>0.414780</td>\n",
       "      <td>0.908937</td>\n",
       "      <td>0.708553</td>\n",
       "      <td>0.770441</td>\n",
       "      <td>0.785778</td>\n",
       "      <td>0.699637</td>\n",
       "      <td>1.000000</td>\n",
       "      <td>0.779720</td>\n",
       "    </tr>\n",
       "    <tr>\n",
       "      <th>GKReflexes</th>\n",
       "      <td>0.368248</td>\n",
       "      <td>0.922749</td>\n",
       "      <td>0.744641</td>\n",
       "      <td>0.846061</td>\n",
       "      <td>0.750891</td>\n",
       "      <td>0.648514</td>\n",
       "      <td>0.779720</td>\n",
       "      <td>1.000000</td>\n",
       "    </tr>\n",
       "  </tbody>\n",
       "</table>\n",
       "</div>"
      ],
      "text/plain": [
       "                    Age   Overall  Potential  GKDiving  GKHandling  GKKicking  \\\n",
       "Age            1.000000  0.435871  -0.071046  0.372472    0.351524   0.303113   \n",
       "Overall        0.435871  1.000000   0.783863  0.908795    0.877514   0.748268   \n",
       "Potential     -0.071046  0.783863   1.000000  0.724274    0.705618   0.601537   \n",
       "GKDiving       0.372472  0.908795   0.724274  1.000000    0.727363   0.655789   \n",
       "GKHandling     0.351524  0.877514   0.705618  0.727363    1.000000   0.665902   \n",
       "GKKicking      0.303113  0.748268   0.601537  0.655789    0.665902   1.000000   \n",
       "GKPositioning  0.414780  0.908937   0.708553  0.770441    0.785778   0.699637   \n",
       "GKReflexes     0.368248  0.922749   0.744641  0.846061    0.750891   0.648514   \n",
       "\n",
       "               GKPositioning  GKReflexes  \n",
       "Age                 0.414780    0.368248  \n",
       "Overall             0.908937    0.922749  \n",
       "Potential           0.708553    0.744641  \n",
       "GKDiving            0.770441    0.846061  \n",
       "GKHandling          0.785778    0.750891  \n",
       "GKKicking           0.699637    0.648514  \n",
       "GKPositioning       1.000000    0.779720  \n",
       "GKReflexes          0.779720    1.000000  "
      ]
     },
     "execution_count": 126,
     "metadata": {},
     "output_type": "execute_result"
    }
   ],
   "source": [
    "u23gk.corr()"
   ]
  },
  {
   "cell_type": "code",
   "execution_count": 127,
   "metadata": {},
   "outputs": [],
   "source": [
    "xgk = u23gk[['Age','Overall','GKDiving', 'GKHandling',\n",
    "       'GKKicking', 'GKPositioning', 'GKReflexes']]\n",
    "ygk = u23gk[['Potential']]"
   ]
  },
  {
   "cell_type": "code",
   "execution_count": 248,
   "metadata": {},
   "outputs": [
    {
     "data": {
      "image/png": "[encoded data removed]",
      "text/plain": [
       "<Figure size 432x288 with 1 Axes>"
      ]
     },
     "metadata": {
      "needs_background": "light"
     },
     "output_type": "display_data"
    }
   ],
   "source": [
    "plt.scatter(x = xgk['GKReflexes'], y = ygk, color = 'blue')\n",
    "plt.title('Potential vs GKReflexes Scatter Plot', fontsize = 15)\n",
    "plt.xlabel('Pontential', fontsize = 15)\n",
    "plt.ylabel('GKReflexes', fontsize = 15)\n",
    "plt.show()"
   ]
  },
  {
   "cell_type": "code",
   "execution_count": 129,
   "metadata": {},
   "outputs": [],
   "source": [
    "xgk_train, xgk_test, ygk_train,ygk_test = train_test_split(xgk, ygk, test_size = 0.2, random_state = 0)"
   ]
  },
  {
   "cell_type": "code",
   "execution_count": 130,
   "metadata": {},
   "outputs": [],
   "source": [
    "lrgk = LinearRegression()"
   ]
  },
  {
   "cell_type": "code",
   "execution_count": 131,
   "metadata": {},
   "outputs": [
    {
     "data": {
      "text/plain": [
       "LinearRegression(copy_X=True, fit_intercept=True, n_jobs=None, normalize=False)"
      ]
     },
     "execution_count": 131,
     "metadata": {},
     "output_type": "execute_result"
    }
   ],
   "source": [
    "lrgk.fit(xgk_train, ygk_train)"
   ]
  },
  {
   "cell_type": "code",
   "execution_count": 132,
   "metadata": {},
   "outputs": [],
   "source": [
    "gkpredict = lrgk.predict(xgk_test)"
   ]
  },
  {
   "cell_type": "markdown",
   "metadata": {},
   "source": [
    "Find the Intercept, RM square error and R2 score"
   ]
  },
  {
   "cell_type": "code",
   "execution_count": 133,
   "metadata": {},
   "outputs": [
    {
     "name": "stdout",
     "output_type": "stream",
     "text": [
      "Intercept : [47.1470365]\n",
      "Root mean square error : 5.87618884550656\n",
      "R2 score : 0.8563858464181078\n"
     ]
    }
   ],
   "source": [
    "print('Intercept :', lrgk.intercept_)\n",
    "print('Root mean square error :', mean_squared_error(ygk_test, gkpredict))\n",
    "print('R2 score :', r2_score(ygk_test, gkpredict))"
   ]
  },
  {
   "cell_type": "code",
   "execution_count": 250,
   "metadata": {},
   "outputs": [
    {
     "data": {
      "image/png": "[encoded data removed]",
      "text/plain": [
       "<Figure size 1440x504 with 1 Axes>"
      ]
     },
     "metadata": {
      "needs_background": "light"
     },
     "output_type": "display_data"
    }
   ],
   "source": [
    "y = ygk_test.head(10)\n",
    "x = np.arange(len(y))\n",
    "y1 = pd.DataFrame(gkpredict, columns = ['Predicted_Potential']).head(10)\n",
    "y1.Predicted_Potential = y1.Predicted_Potential.round().astype(int)\n",
    "x1 = np.arange(len(y))\n",
    "width = 0.40\n",
    "fig,ax = plt.subplots(figsize = (20,7))\n",
    "\n",
    "bar1 = ax.bar(x - width/2,y.Potential,width, color = 'Orange', label = 'ACTUAL POTENTIAL')\n",
    "bar2 = ax.bar(x1 + width/2, y1.Predicted_Potential,width, color = 'Navy', label = 'PREDICTED POTENTIAL')\n",
    "ax.legend()\n",
    "ax.set_title('GOALKEEPER Ratings: Actual Potential vs Predicted Potential', fontsize = 30)\n",
    "ax.set_ylabel('RATINGS',fontsize = 20)\n",
    "\n",
    "def autolabel(bars):\n",
    "    for bar in bars:\n",
    "        height = bar.get_height()\n",
    "        ax.annotate('{}'.format(height),\n",
    "                    xy=(bar.get_x() + bar.get_width() / 2, height),\n",
    "                    xytext=(0, 3),  # 3 points vertical offset\n",
    "                    textcoords=\"offset points\",\n",
    "                    ha='center', va='bottom', fontsize = 15)\n",
    "autolabel(bar1)\n",
    "autolabel(bar2)"
   ]
  },
  {
   "cell_type": "markdown",
   "metadata": {},
   "source": [
    "###### B) CENTRE BACK"
   ]
  },
  {
   "cell_type": "code",
   "execution_count": 8,
   "metadata": {},
   "outputs": [],
   "source": [
    "u23cb = u23[u23.Position.isin(['CB','LCB','RCB'])]"
   ]
  },
  {
   "cell_type": "code",
   "execution_count": 9,
   "metadata": {},
   "outputs": [],
   "source": [
    "u23cb = u23cb[['Name', 'Age','Overall', 'Potential','BallControl','HeadingAccuracy', 'ShortPassing',\n",
    "       'Jumping','Strength', 'Aggression',\n",
    "       'Interceptions', 'Composure',\n",
    "       'Marking', 'StandingTackle', 'SlidingTackle']]"
   ]
  },
  {
   "cell_type": "code",
   "execution_count": 10,
   "metadata": {},
   "outputs": [
    {
     "data": {
      "text/html": [
       "<div>\n",
       "<style scoped>\n",
       "    .dataframe tbody tr th:only-of-type {\n",
       "        vertical-align: middle;\n",
       "    }\n",
       "\n",
       "    .dataframe tbody tr th {\n",
       "        vertical-align: top;\n",
       "    }\n",
       "\n",
       "    .dataframe thead th {\n",
       "        text-align: right;\n",
       "    }\n",
       "</style>\n",
       "<table border=\"1\" class=\"dataframe\">\n",
       "  <thead>\n",
       "    <tr style=\"text-align: right;\">\n",
       "      <th></th>\n",
       "      <th>Age</th>\n",
       "      <th>Overall</th>\n",
       "      <th>Potential</th>\n",
       "      <th>BallControl</th>\n",
       "      <th>HeadingAccuracy</th>\n",
       "      <th>ShortPassing</th>\n",
       "      <th>Jumping</th>\n",
       "      <th>Strength</th>\n",
       "      <th>Aggression</th>\n",
       "      <th>Interceptions</th>\n",
       "      <th>Composure</th>\n",
       "      <th>Marking</th>\n",
       "      <th>StandingTackle</th>\n",
       "      <th>SlidingTackle</th>\n",
       "    </tr>\n",
       "  </thead>\n",
       "  <tbody>\n",
       "    <tr>\n",
       "      <th>Age</th>\n",
       "      <td>1.000000</td>\n",
       "      <td>0.460519</td>\n",
       "      <td>-0.009191</td>\n",
       "      <td>0.309895</td>\n",
       "      <td>0.401135</td>\n",
       "      <td>0.300786</td>\n",
       "      <td>0.070459</td>\n",
       "      <td>0.384993</td>\n",
       "      <td>0.390548</td>\n",
       "      <td>0.401137</td>\n",
       "      <td>0.366525</td>\n",
       "      <td>0.414012</td>\n",
       "      <td>0.385661</td>\n",
       "      <td>0.380900</td>\n",
       "    </tr>\n",
       "    <tr>\n",
       "      <th>Overall</th>\n",
       "      <td>0.460519</td>\n",
       "      <td>1.000000</td>\n",
       "      <td>0.807660</td>\n",
       "      <td>0.736402</td>\n",
       "      <td>0.836331</td>\n",
       "      <td>0.752779</td>\n",
       "      <td>0.232452</td>\n",
       "      <td>0.564395</td>\n",
       "      <td>0.738554</td>\n",
       "      <td>0.897255</td>\n",
       "      <td>0.789864</td>\n",
       "      <td>0.872053</td>\n",
       "      <td>0.907795</td>\n",
       "      <td>0.871668</td>\n",
       "    </tr>\n",
       "    <tr>\n",
       "      <th>Potential</th>\n",
       "      <td>-0.009191</td>\n",
       "      <td>0.807660</td>\n",
       "      <td>1.000000</td>\n",
       "      <td>0.604891</td>\n",
       "      <td>0.660304</td>\n",
       "      <td>0.628573</td>\n",
       "      <td>0.203132</td>\n",
       "      <td>0.391129</td>\n",
       "      <td>0.561638</td>\n",
       "      <td>0.731753</td>\n",
       "      <td>0.621079</td>\n",
       "      <td>0.722529</td>\n",
       "      <td>0.749866</td>\n",
       "      <td>0.708968</td>\n",
       "    </tr>\n",
       "    <tr>\n",
       "      <th>BallControl</th>\n",
       "      <td>0.309895</td>\n",
       "      <td>0.736402</td>\n",
       "      <td>0.604891</td>\n",
       "      <td>1.000000</td>\n",
       "      <td>0.557315</td>\n",
       "      <td>0.832030</td>\n",
       "      <td>0.141344</td>\n",
       "      <td>0.289304</td>\n",
       "      <td>0.506576</td>\n",
       "      <td>0.645994</td>\n",
       "      <td>0.684665</td>\n",
       "      <td>0.584682</td>\n",
       "      <td>0.578398</td>\n",
       "      <td>0.568800</td>\n",
       "    </tr>\n",
       "    <tr>\n",
       "      <th>HeadingAccuracy</th>\n",
       "      <td>0.401135</td>\n",
       "      <td>0.836331</td>\n",
       "      <td>0.660304</td>\n",
       "      <td>0.557315</td>\n",
       "      <td>1.000000</td>\n",
       "      <td>0.612518</td>\n",
       "      <td>0.151932</td>\n",
       "      <td>0.506341</td>\n",
       "      <td>0.595351</td>\n",
       "      <td>0.708488</td>\n",
       "      <td>0.642675</td>\n",
       "      <td>0.683885</td>\n",
       "      <td>0.747641</td>\n",
       "      <td>0.707264</td>\n",
       "    </tr>\n",
       "    <tr>\n",
       "      <th>ShortPassing</th>\n",
       "      <td>0.300786</td>\n",
       "      <td>0.752779</td>\n",
       "      <td>0.628573</td>\n",
       "      <td>0.832030</td>\n",
       "      <td>0.612518</td>\n",
       "      <td>1.000000</td>\n",
       "      <td>0.095427</td>\n",
       "      <td>0.307175</td>\n",
       "      <td>0.535701</td>\n",
       "      <td>0.662097</td>\n",
       "      <td>0.661862</td>\n",
       "      <td>0.586302</td>\n",
       "      <td>0.602070</td>\n",
       "      <td>0.564271</td>\n",
       "    </tr>\n",
       "    <tr>\n",
       "      <th>Jumping</th>\n",
       "      <td>0.070459</td>\n",
       "      <td>0.232452</td>\n",
       "      <td>0.203132</td>\n",
       "      <td>0.141344</td>\n",
       "      <td>0.151932</td>\n",
       "      <td>0.095427</td>\n",
       "      <td>1.000000</td>\n",
       "      <td>0.017662</td>\n",
       "      <td>0.154926</td>\n",
       "      <td>0.206993</td>\n",
       "      <td>0.203042</td>\n",
       "      <td>0.158568</td>\n",
       "      <td>0.199462</td>\n",
       "      <td>0.215836</td>\n",
       "    </tr>\n",
       "    <tr>\n",
       "      <th>Strength</th>\n",
       "      <td>0.384993</td>\n",
       "      <td>0.564395</td>\n",
       "      <td>0.391129</td>\n",
       "      <td>0.289304</td>\n",
       "      <td>0.506341</td>\n",
       "      <td>0.307175</td>\n",
       "      <td>0.017662</td>\n",
       "      <td>1.000000</td>\n",
       "      <td>0.494844</td>\n",
       "      <td>0.394583</td>\n",
       "      <td>0.431394</td>\n",
       "      <td>0.426716</td>\n",
       "      <td>0.411937</td>\n",
       "      <td>0.355532</td>\n",
       "    </tr>\n",
       "    <tr>\n",
       "      <th>Aggression</th>\n",
       "      <td>0.390548</td>\n",
       "      <td>0.738554</td>\n",
       "      <td>0.561638</td>\n",
       "      <td>0.506576</td>\n",
       "      <td>0.595351</td>\n",
       "      <td>0.535701</td>\n",
       "      <td>0.154926</td>\n",
       "      <td>0.494844</td>\n",
       "      <td>1.000000</td>\n",
       "      <td>0.613894</td>\n",
       "      <td>0.572790</td>\n",
       "      <td>0.563666</td>\n",
       "      <td>0.592473</td>\n",
       "      <td>0.567368</td>\n",
       "    </tr>\n",
       "    <tr>\n",
       "      <th>Interceptions</th>\n",
       "      <td>0.401137</td>\n",
       "      <td>0.897255</td>\n",
       "      <td>0.731753</td>\n",
       "      <td>0.645994</td>\n",
       "      <td>0.708488</td>\n",
       "      <td>0.662097</td>\n",
       "      <td>0.206993</td>\n",
       "      <td>0.394583</td>\n",
       "      <td>0.613894</td>\n",
       "      <td>1.000000</td>\n",
       "      <td>0.721704</td>\n",
       "      <td>0.772836</td>\n",
       "      <td>0.813219</td>\n",
       "      <td>0.781688</td>\n",
       "    </tr>\n",
       "    <tr>\n",
       "      <th>Composure</th>\n",
       "      <td>0.366525</td>\n",
       "      <td>0.789864</td>\n",
       "      <td>0.621079</td>\n",
       "      <td>0.684665</td>\n",
       "      <td>0.642675</td>\n",
       "      <td>0.661862</td>\n",
       "      <td>0.203042</td>\n",
       "      <td>0.431394</td>\n",
       "      <td>0.572790</td>\n",
       "      <td>0.721704</td>\n",
       "      <td>1.000000</td>\n",
       "      <td>0.664637</td>\n",
       "      <td>0.668708</td>\n",
       "      <td>0.648583</td>\n",
       "    </tr>\n",
       "    <tr>\n",
       "      <th>Marking</th>\n",
       "      <td>0.414012</td>\n",
       "      <td>0.872053</td>\n",
       "      <td>0.722529</td>\n",
       "      <td>0.584682</td>\n",
       "      <td>0.683885</td>\n",
       "      <td>0.586302</td>\n",
       "      <td>0.158568</td>\n",
       "      <td>0.426716</td>\n",
       "      <td>0.563666</td>\n",
       "      <td>0.772836</td>\n",
       "      <td>0.664637</td>\n",
       "      <td>1.000000</td>\n",
       "      <td>0.790601</td>\n",
       "      <td>0.764416</td>\n",
       "    </tr>\n",
       "    <tr>\n",
       "      <th>StandingTackle</th>\n",
       "      <td>0.385661</td>\n",
       "      <td>0.907795</td>\n",
       "      <td>0.749866</td>\n",
       "      <td>0.578398</td>\n",
       "      <td>0.747641</td>\n",
       "      <td>0.602070</td>\n",
       "      <td>0.199462</td>\n",
       "      <td>0.411937</td>\n",
       "      <td>0.592473</td>\n",
       "      <td>0.813219</td>\n",
       "      <td>0.668708</td>\n",
       "      <td>0.790601</td>\n",
       "      <td>1.000000</td>\n",
       "      <td>0.911323</td>\n",
       "    </tr>\n",
       "    <tr>\n",
       "      <th>SlidingTackle</th>\n",
       "      <td>0.380900</td>\n",
       "      <td>0.871668</td>\n",
       "      <td>0.708968</td>\n",
       "      <td>0.568800</td>\n",
       "      <td>0.707264</td>\n",
       "      <td>0.564271</td>\n",
       "      <td>0.215836</td>\n",
       "      <td>0.355532</td>\n",
       "      <td>0.567368</td>\n",
       "      <td>0.781688</td>\n",
       "      <td>0.648583</td>\n",
       "      <td>0.764416</td>\n",
       "      <td>0.911323</td>\n",
       "      <td>1.000000</td>\n",
       "    </tr>\n",
       "  </tbody>\n",
       "</table>\n",
       "</div>"
      ],
      "text/plain": [
       "                      Age   Overall  Potential  BallControl  HeadingAccuracy  \\\n",
       "Age              1.000000  0.460519  -0.009191     0.309895         0.401135   \n",
       "Overall          0.460519  1.000000   0.807660     0.736402         0.836331   \n",
       "Potential       -0.009191  0.807660   1.000000     0.604891         0.660304   \n",
       "BallControl      0.309895  0.736402   0.604891     1.000000         0.557315   \n",
       "HeadingAccuracy  0.401135  0.836331   0.660304     0.557315         1.000000   \n",
       "ShortPassing     0.300786  0.752779   0.628573     0.832030         0.612518   \n",
       "Jumping          0.070459  0.232452   0.203132     0.141344         0.151932   \n",
       "Strength         0.384993  0.564395   0.391129     0.289304         0.506341   \n",
       "Aggression       0.390548  0.738554   0.561638     0.506576         0.595351   \n",
       "Interceptions    0.401137  0.897255   0.731753     0.645994         0.708488   \n",
       "Composure        0.366525  0.789864   0.621079     0.684665         0.642675   \n",
       "Marking          0.414012  0.872053   0.722529     0.584682         0.683885   \n",
       "StandingTackle   0.385661  0.907795   0.749866     0.578398         0.747641   \n",
       "SlidingTackle    0.380900  0.871668   0.708968     0.568800         0.707264   \n",
       "\n",
       "                 ShortPassing   Jumping  Strength  Aggression  Interceptions  \\\n",
       "Age                  0.300786  0.070459  0.384993    0.390548       0.401137   \n",
       "Overall              0.752779  0.232452  0.564395    0.738554       0.897255   \n",
       "Potential            0.628573  0.203132  0.391129    0.561638       0.731753   \n",
       "BallControl          0.832030  0.141344  0.289304    0.506576       0.645994   \n",
       "HeadingAccuracy      0.612518  0.151932  0.506341    0.595351       0.708488   \n",
       "ShortPassing         1.000000  0.095427  0.307175    0.535701       0.662097   \n",
       "Jumping              0.095427  1.000000  0.017662    0.154926       0.206993   \n",
       "Strength             0.307175  0.017662  1.000000    0.494844       0.394583   \n",
       "Aggression           0.535701  0.154926  0.494844    1.000000       0.613894   \n",
       "Interceptions        0.662097  0.206993  0.394583    0.613894       1.000000   \n",
       "Composure            0.661862  0.203042  0.431394    0.572790       0.721704   \n",
       "Marking              0.586302  0.158568  0.426716    0.563666       0.772836   \n",
       "StandingTackle       0.602070  0.199462  0.411937    0.592473       0.813219   \n",
       "SlidingTackle        0.564271  0.215836  0.355532    0.567368       0.781688   \n",
       "\n",
       "                 Composure   Marking  StandingTackle  SlidingTackle  \n",
       "Age               0.366525  0.414012        0.385661       0.380900  \n",
       "Overall           0.789864  0.872053        0.907795       0.871668  \n",
       "Potential         0.621079  0.722529        0.749866       0.708968  \n",
       "BallControl       0.684665  0.584682        0.578398       0.568800  \n",
       "HeadingAccuracy   0.642675  0.683885        0.747641       0.707264  \n",
       "ShortPassing      0.661862  0.586302        0.602070       0.564271  \n",
       "Jumping           0.203042  0.158568        0.199462       0.215836  \n",
       "Strength          0.431394  0.426716        0.411937       0.355532  \n",
       "Aggression        0.572790  0.563666        0.592473       0.567368  \n",
       "Interceptions     0.721704  0.772836        0.813219       0.781688  \n",
       "Composure         1.000000  0.664637        0.668708       0.648583  \n",
       "Marking           0.664637  1.000000        0.790601       0.764416  \n",
       "StandingTackle    0.668708  0.790601        1.000000       0.911323  \n",
       "SlidingTackle     0.648583  0.764416        0.911323       1.000000  "
      ]
     },
     "execution_count": 10,
     "metadata": {},
     "output_type": "execute_result"
    }
   ],
   "source": [
    "u23cb.corr()"
   ]
  },
  {
   "cell_type": "code",
   "execution_count": 29,
   "metadata": {},
   "outputs": [],
   "source": [
    "xcb = u23cb[['Age','Overall','HeadingAccuracy','Interceptions','Marking', 'StandingTackle', 'SlidingTackle']]\n",
    "ycb = u23cb[['Potential']]"
   ]
  },
  {
   "cell_type": "code",
   "execution_count": 30,
   "metadata": {},
   "outputs": [
    {
     "data": {
      "image/png": "[encoded data removed]",
      "text/plain": [
       "<Figure size 432x288 with 1 Axes>"
      ]
     },
     "metadata": {
      "needs_background": "light"
     },
     "output_type": "display_data"
    }
   ],
   "source": [
    "plt.scatter(x = xcb['StandingTackle'], y = ycb, color = 'blue')\n",
    "plt.title('Potential vs StandingTackle Scatter Plot', fontsize = 15)\n",
    "plt.xlabel('Pontential', fontsize = 15)\n",
    "plt.ylabel('StandingTackle', fontsize = 15)\n",
    "plt.show()"
   ]
  },
  {
   "cell_type": "code",
   "execution_count": 31,
   "metadata": {},
   "outputs": [],
   "source": [
    "xcb_train, xcb_test, ycb_train, ycb_test = train_test_split(xcb, ycb, test_size = 0.20, random_state = 0)"
   ]
  },
  {
   "cell_type": "code",
   "execution_count": 32,
   "metadata": {},
   "outputs": [],
   "source": [
    "cblr = LinearRegression()"
   ]
  },
  {
   "cell_type": "code",
   "execution_count": 33,
   "metadata": {},
   "outputs": [
    {
     "data": {
      "text/plain": [
       "LinearRegression(copy_X=True, fit_intercept=True, n_jobs=None, normalize=False)"
      ]
     },
     "execution_count": 33,
     "metadata": {},
     "output_type": "execute_result"
    }
   ],
   "source": [
    "cblr.fit(xcb_train, ycb_train)"
   ]
  },
  {
   "cell_type": "code",
   "execution_count": 34,
   "metadata": {},
   "outputs": [],
   "source": [
    "cbpredict = cblr.predict(xcb_test)"
   ]
  },
  {
   "cell_type": "code",
   "execution_count": 35,
   "metadata": {},
   "outputs": [
    {
     "name": "stdout",
     "output_type": "stream",
     "text": [
      "Intercept : [49.17765502]\n",
      "Root mean square error : 5.848133564732575\n",
      "R2 score : 0.8169089318178537\n"
     ]
    }
   ],
   "source": [
    "print('Intercept :', cblr.intercept_)\n",
    "print('Root mean square error :', mean_squared_error(ycb_test, cbpredict))\n",
    "print('R2 score :', r2_score(ycb_test, cbpredict))"
   ]
  },
  {
   "cell_type": "code",
   "execution_count": 36,
   "metadata": {},
   "outputs": [
    {
     "data": {
      "image/png": "[encoded data removed]",
      "text/plain": [
       "<Figure size 1440x504 with 1 Axes>"
      ]
     },
     "metadata": {
      "needs_background": "light"
     },
     "output_type": "display_data"
    }
   ],
   "source": [
    "y = ycb_test.head(10)\n",
    "x = np.arange(len(y))\n",
    "y1 = pd.DataFrame(cbpredict, columns = ['Predicted_Potential']).head(10)\n",
    "y1.Predicted_Potential = y1.Predicted_Potential.round().astype(int)\n",
    "x1 = np.arange(len(y))\n",
    "width = 0.40\n",
    "fig,ax = plt.subplots(figsize = (20,7))\n",
    "\n",
    "bar1 = ax.bar(x - width/2,y.Potential,width, color = 'Orange', label = 'ACTUAL POTENTIAL')\n",
    "bar2 = ax.bar(x1 + width/2, y1.Predicted_Potential,width, color = 'Navy', label = 'PREDICTED POTENTIAL')\n",
    "ax.legend()\n",
    "ax.set_title('CENTRE BACK Ratings: Actual Potential vs Predicted Potential', fontsize = 30)\n",
    "ax.set_ylabel('RATINGS',fontsize = 20)\n",
    "\n",
    "def autolabel(bars):\n",
    "    for bar in bars:\n",
    "        height = bar.get_height()\n",
    "        ax.annotate('{}'.format(height),\n",
    "                    xy=(bar.get_x() + bar.get_width() / 2, height),\n",
    "                    xytext=(0, 3),  # 3 points vertical offset\n",
    "                    textcoords=\"offset points\",\n",
    "                    ha='center', va='bottom', fontsize = 15)\n",
    "autolabel(bar1)\n",
    "autolabel(bar2)"
   ]
  },
  {
   "cell_type": "markdown",
   "metadata": {},
   "source": [
    "###### C) FULL BACK"
   ]
  },
  {
   "cell_type": "code",
   "execution_count": 148,
   "metadata": {},
   "outputs": [],
   "source": [
    "u23fb = u23[u23.Position.isin(['LB','RB','LWB','RWB'])]"
   ]
  },
  {
   "cell_type": "code",
   "execution_count": 149,
   "metadata": {},
   "outputs": [],
   "source": [
    "u23fb = u23fb[['Name', 'Age','Overall', 'Potential','Crossing','HeadingAccuracy', 'ShortPassing','Dribbling'\n",
    "               ,'LongPassing', 'BallControl', 'Acceleration', 'SprintSpeed','Jumping', 'Stamina', 'Strength', \n",
    "               'Aggression','Interceptions', 'Composure','Marking', 'StandingTackle', 'SlidingTackle']]"
   ]
  },
  {
   "cell_type": "code",
   "execution_count": 150,
   "metadata": {},
   "outputs": [
    {
     "data": {
      "text/html": [
       "<div>\n",
       "<style scoped>\n",
       "    .dataframe tbody tr th:only-of-type {\n",
       "        vertical-align: middle;\n",
       "    }\n",
       "\n",
       "    .dataframe tbody tr th {\n",
       "        vertical-align: top;\n",
       "    }\n",
       "\n",
       "    .dataframe thead th {\n",
       "        text-align: right;\n",
       "    }\n",
       "</style>\n",
       "<table border=\"1\" class=\"dataframe\">\n",
       "  <thead>\n",
       "    <tr style=\"text-align: right;\">\n",
       "      <th></th>\n",
       "      <th>Age</th>\n",
       "      <th>Overall</th>\n",
       "      <th>Potential</th>\n",
       "      <th>Crossing</th>\n",
       "      <th>HeadingAccuracy</th>\n",
       "      <th>ShortPassing</th>\n",
       "      <th>Dribbling</th>\n",
       "      <th>LongPassing</th>\n",
       "      <th>BallControl</th>\n",
       "      <th>Acceleration</th>\n",
       "      <th>SprintSpeed</th>\n",
       "      <th>Jumping</th>\n",
       "      <th>Stamina</th>\n",
       "      <th>Strength</th>\n",
       "      <th>Aggression</th>\n",
       "      <th>Interceptions</th>\n",
       "      <th>Composure</th>\n",
       "      <th>Marking</th>\n",
       "      <th>StandingTackle</th>\n",
       "      <th>SlidingTackle</th>\n",
       "    </tr>\n",
       "  </thead>\n",
       "  <tbody>\n",
       "    <tr>\n",
       "      <th>Age</th>\n",
       "      <td>1.000000</td>\n",
       "      <td>0.425804</td>\n",
       "      <td>-0.082397</td>\n",
       "      <td>0.351007</td>\n",
       "      <td>0.267220</td>\n",
       "      <td>0.335373</td>\n",
       "      <td>0.226019</td>\n",
       "      <td>0.290480</td>\n",
       "      <td>0.338067</td>\n",
       "      <td>0.164985</td>\n",
       "      <td>0.240749</td>\n",
       "      <td>0.165937</td>\n",
       "      <td>0.378157</td>\n",
       "      <td>0.295080</td>\n",
       "      <td>0.245270</td>\n",
       "      <td>0.337795</td>\n",
       "      <td>0.344059</td>\n",
       "      <td>0.355591</td>\n",
       "      <td>0.343379</td>\n",
       "      <td>0.348775</td>\n",
       "    </tr>\n",
       "    <tr>\n",
       "      <th>Overall</th>\n",
       "      <td>0.425804</td>\n",
       "      <td>1.000000</td>\n",
       "      <td>0.795060</td>\n",
       "      <td>0.831006</td>\n",
       "      <td>0.616930</td>\n",
       "      <td>0.809502</td>\n",
       "      <td>0.680344</td>\n",
       "      <td>0.684009</td>\n",
       "      <td>0.842682</td>\n",
       "      <td>0.463287</td>\n",
       "      <td>0.520344</td>\n",
       "      <td>0.301823</td>\n",
       "      <td>0.641864</td>\n",
       "      <td>0.420636</td>\n",
       "      <td>0.599742</td>\n",
       "      <td>0.838549</td>\n",
       "      <td>0.802841</td>\n",
       "      <td>0.811673</td>\n",
       "      <td>0.845171</td>\n",
       "      <td>0.836044</td>\n",
       "    </tr>\n",
       "    <tr>\n",
       "      <th>Potential</th>\n",
       "      <td>-0.082397</td>\n",
       "      <td>0.795060</td>\n",
       "      <td>1.000000</td>\n",
       "      <td>0.662445</td>\n",
       "      <td>0.473976</td>\n",
       "      <td>0.640855</td>\n",
       "      <td>0.590026</td>\n",
       "      <td>0.522664</td>\n",
       "      <td>0.686183</td>\n",
       "      <td>0.394429</td>\n",
       "      <td>0.409304</td>\n",
       "      <td>0.193812</td>\n",
       "      <td>0.450712</td>\n",
       "      <td>0.256890</td>\n",
       "      <td>0.459252</td>\n",
       "      <td>0.667143</td>\n",
       "      <td>0.637438</td>\n",
       "      <td>0.644020</td>\n",
       "      <td>0.688636</td>\n",
       "      <td>0.679083</td>\n",
       "    </tr>\n",
       "    <tr>\n",
       "      <th>Crossing</th>\n",
       "      <td>0.351007</td>\n",
       "      <td>0.831006</td>\n",
       "      <td>0.662445</td>\n",
       "      <td>1.000000</td>\n",
       "      <td>0.410759</td>\n",
       "      <td>0.739891</td>\n",
       "      <td>0.680872</td>\n",
       "      <td>0.642164</td>\n",
       "      <td>0.781142</td>\n",
       "      <td>0.410521</td>\n",
       "      <td>0.429578</td>\n",
       "      <td>0.140029</td>\n",
       "      <td>0.486686</td>\n",
       "      <td>0.264088</td>\n",
       "      <td>0.418192</td>\n",
       "      <td>0.632344</td>\n",
       "      <td>0.652030</td>\n",
       "      <td>0.618978</td>\n",
       "      <td>0.639822</td>\n",
       "      <td>0.641418</td>\n",
       "    </tr>\n",
       "    <tr>\n",
       "      <th>HeadingAccuracy</th>\n",
       "      <td>0.267220</td>\n",
       "      <td>0.616930</td>\n",
       "      <td>0.473976</td>\n",
       "      <td>0.410759</td>\n",
       "      <td>1.000000</td>\n",
       "      <td>0.477205</td>\n",
       "      <td>0.266580</td>\n",
       "      <td>0.411771</td>\n",
       "      <td>0.455296</td>\n",
       "      <td>0.007441</td>\n",
       "      <td>0.143847</td>\n",
       "      <td>0.268883</td>\n",
       "      <td>0.301674</td>\n",
       "      <td>0.493012</td>\n",
       "      <td>0.430714</td>\n",
       "      <td>0.560173</td>\n",
       "      <td>0.508558</td>\n",
       "      <td>0.552324</td>\n",
       "      <td>0.612709</td>\n",
       "      <td>0.599169</td>\n",
       "    </tr>\n",
       "    <tr>\n",
       "      <th>ShortPassing</th>\n",
       "      <td>0.335373</td>\n",
       "      <td>0.809502</td>\n",
       "      <td>0.640855</td>\n",
       "      <td>0.739891</td>\n",
       "      <td>0.477205</td>\n",
       "      <td>1.000000</td>\n",
       "      <td>0.561755</td>\n",
       "      <td>0.818125</td>\n",
       "      <td>0.827129</td>\n",
       "      <td>0.330617</td>\n",
       "      <td>0.408797</td>\n",
       "      <td>0.221234</td>\n",
       "      <td>0.483177</td>\n",
       "      <td>0.352854</td>\n",
       "      <td>0.424146</td>\n",
       "      <td>0.581494</td>\n",
       "      <td>0.700673</td>\n",
       "      <td>0.601514</td>\n",
       "      <td>0.584222</td>\n",
       "      <td>0.554359</td>\n",
       "    </tr>\n",
       "    <tr>\n",
       "      <th>Dribbling</th>\n",
       "      <td>0.226019</td>\n",
       "      <td>0.680344</td>\n",
       "      <td>0.590026</td>\n",
       "      <td>0.680872</td>\n",
       "      <td>0.266580</td>\n",
       "      <td>0.561755</td>\n",
       "      <td>1.000000</td>\n",
       "      <td>0.517544</td>\n",
       "      <td>0.710245</td>\n",
       "      <td>0.485274</td>\n",
       "      <td>0.455316</td>\n",
       "      <td>0.101410</td>\n",
       "      <td>0.407389</td>\n",
       "      <td>0.133421</td>\n",
       "      <td>0.402751</td>\n",
       "      <td>0.496056</td>\n",
       "      <td>0.585575</td>\n",
       "      <td>0.468665</td>\n",
       "      <td>0.529669</td>\n",
       "      <td>0.521313</td>\n",
       "    </tr>\n",
       "    <tr>\n",
       "      <th>LongPassing</th>\n",
       "      <td>0.290480</td>\n",
       "      <td>0.684009</td>\n",
       "      <td>0.522664</td>\n",
       "      <td>0.642164</td>\n",
       "      <td>0.411771</td>\n",
       "      <td>0.818125</td>\n",
       "      <td>0.517544</td>\n",
       "      <td>1.000000</td>\n",
       "      <td>0.694050</td>\n",
       "      <td>0.297503</td>\n",
       "      <td>0.386357</td>\n",
       "      <td>0.200347</td>\n",
       "      <td>0.447037</td>\n",
       "      <td>0.328129</td>\n",
       "      <td>0.410866</td>\n",
       "      <td>0.483988</td>\n",
       "      <td>0.646940</td>\n",
       "      <td>0.527443</td>\n",
       "      <td>0.472844</td>\n",
       "      <td>0.436877</td>\n",
       "    </tr>\n",
       "    <tr>\n",
       "      <th>BallControl</th>\n",
       "      <td>0.338067</td>\n",
       "      <td>0.842682</td>\n",
       "      <td>0.686183</td>\n",
       "      <td>0.781142</td>\n",
       "      <td>0.455296</td>\n",
       "      <td>0.827129</td>\n",
       "      <td>0.710245</td>\n",
       "      <td>0.694050</td>\n",
       "      <td>1.000000</td>\n",
       "      <td>0.412771</td>\n",
       "      <td>0.464181</td>\n",
       "      <td>0.214673</td>\n",
       "      <td>0.489568</td>\n",
       "      <td>0.322824</td>\n",
       "      <td>0.459054</td>\n",
       "      <td>0.613854</td>\n",
       "      <td>0.743151</td>\n",
       "      <td>0.614893</td>\n",
       "      <td>0.624899</td>\n",
       "      <td>0.603290</td>\n",
       "    </tr>\n",
       "    <tr>\n",
       "      <th>Acceleration</th>\n",
       "      <td>0.164985</td>\n",
       "      <td>0.463287</td>\n",
       "      <td>0.394429</td>\n",
       "      <td>0.410521</td>\n",
       "      <td>0.007441</td>\n",
       "      <td>0.330617</td>\n",
       "      <td>0.485274</td>\n",
       "      <td>0.297503</td>\n",
       "      <td>0.412771</td>\n",
       "      <td>1.000000</td>\n",
       "      <td>0.835121</td>\n",
       "      <td>0.204221</td>\n",
       "      <td>0.441081</td>\n",
       "      <td>0.066351</td>\n",
       "      <td>0.242843</td>\n",
       "      <td>0.254707</td>\n",
       "      <td>0.371986</td>\n",
       "      <td>0.242776</td>\n",
       "      <td>0.207199</td>\n",
       "      <td>0.225660</td>\n",
       "    </tr>\n",
       "    <tr>\n",
       "      <th>SprintSpeed</th>\n",
       "      <td>0.240749</td>\n",
       "      <td>0.520344</td>\n",
       "      <td>0.409304</td>\n",
       "      <td>0.429578</td>\n",
       "      <td>0.143847</td>\n",
       "      <td>0.408797</td>\n",
       "      <td>0.455316</td>\n",
       "      <td>0.386357</td>\n",
       "      <td>0.464181</td>\n",
       "      <td>0.835121</td>\n",
       "      <td>1.000000</td>\n",
       "      <td>0.231790</td>\n",
       "      <td>0.495512</td>\n",
       "      <td>0.204877</td>\n",
       "      <td>0.280148</td>\n",
       "      <td>0.285266</td>\n",
       "      <td>0.430616</td>\n",
       "      <td>0.305835</td>\n",
       "      <td>0.235881</td>\n",
       "      <td>0.240108</td>\n",
       "    </tr>\n",
       "    <tr>\n",
       "      <th>Jumping</th>\n",
       "      <td>0.165937</td>\n",
       "      <td>0.301823</td>\n",
       "      <td>0.193812</td>\n",
       "      <td>0.140029</td>\n",
       "      <td>0.268883</td>\n",
       "      <td>0.221234</td>\n",
       "      <td>0.101410</td>\n",
       "      <td>0.200347</td>\n",
       "      <td>0.214673</td>\n",
       "      <td>0.204221</td>\n",
       "      <td>0.231790</td>\n",
       "      <td>1.000000</td>\n",
       "      <td>0.300686</td>\n",
       "      <td>0.253837</td>\n",
       "      <td>0.320229</td>\n",
       "      <td>0.255205</td>\n",
       "      <td>0.276167</td>\n",
       "      <td>0.253765</td>\n",
       "      <td>0.225867</td>\n",
       "      <td>0.223249</td>\n",
       "    </tr>\n",
       "    <tr>\n",
       "      <th>Stamina</th>\n",
       "      <td>0.378157</td>\n",
       "      <td>0.641864</td>\n",
       "      <td>0.450712</td>\n",
       "      <td>0.486686</td>\n",
       "      <td>0.301674</td>\n",
       "      <td>0.483177</td>\n",
       "      <td>0.407389</td>\n",
       "      <td>0.447037</td>\n",
       "      <td>0.489568</td>\n",
       "      <td>0.441081</td>\n",
       "      <td>0.495512</td>\n",
       "      <td>0.300686</td>\n",
       "      <td>1.000000</td>\n",
       "      <td>0.377182</td>\n",
       "      <td>0.413198</td>\n",
       "      <td>0.454103</td>\n",
       "      <td>0.539825</td>\n",
       "      <td>0.471846</td>\n",
       "      <td>0.413184</td>\n",
       "      <td>0.403732</td>\n",
       "    </tr>\n",
       "    <tr>\n",
       "      <th>Strength</th>\n",
       "      <td>0.295080</td>\n",
       "      <td>0.420636</td>\n",
       "      <td>0.256890</td>\n",
       "      <td>0.264088</td>\n",
       "      <td>0.493012</td>\n",
       "      <td>0.352854</td>\n",
       "      <td>0.133421</td>\n",
       "      <td>0.328129</td>\n",
       "      <td>0.322824</td>\n",
       "      <td>0.066351</td>\n",
       "      <td>0.204877</td>\n",
       "      <td>0.253837</td>\n",
       "      <td>0.377182</td>\n",
       "      <td>1.000000</td>\n",
       "      <td>0.389982</td>\n",
       "      <td>0.346460</td>\n",
       "      <td>0.386979</td>\n",
       "      <td>0.374547</td>\n",
       "      <td>0.390931</td>\n",
       "      <td>0.342075</td>\n",
       "    </tr>\n",
       "    <tr>\n",
       "      <th>Aggression</th>\n",
       "      <td>0.245270</td>\n",
       "      <td>0.599742</td>\n",
       "      <td>0.459252</td>\n",
       "      <td>0.418192</td>\n",
       "      <td>0.430714</td>\n",
       "      <td>0.424146</td>\n",
       "      <td>0.402751</td>\n",
       "      <td>0.410866</td>\n",
       "      <td>0.459054</td>\n",
       "      <td>0.242843</td>\n",
       "      <td>0.280148</td>\n",
       "      <td>0.320229</td>\n",
       "      <td>0.413198</td>\n",
       "      <td>0.389982</td>\n",
       "      <td>1.000000</td>\n",
       "      <td>0.572138</td>\n",
       "      <td>0.510055</td>\n",
       "      <td>0.522901</td>\n",
       "      <td>0.565057</td>\n",
       "      <td>0.576203</td>\n",
       "    </tr>\n",
       "    <tr>\n",
       "      <th>Interceptions</th>\n",
       "      <td>0.337795</td>\n",
       "      <td>0.838549</td>\n",
       "      <td>0.667143</td>\n",
       "      <td>0.632344</td>\n",
       "      <td>0.560173</td>\n",
       "      <td>0.581494</td>\n",
       "      <td>0.496056</td>\n",
       "      <td>0.483988</td>\n",
       "      <td>0.613854</td>\n",
       "      <td>0.254707</td>\n",
       "      <td>0.285266</td>\n",
       "      <td>0.255205</td>\n",
       "      <td>0.454103</td>\n",
       "      <td>0.346460</td>\n",
       "      <td>0.572138</td>\n",
       "      <td>1.000000</td>\n",
       "      <td>0.653146</td>\n",
       "      <td>0.729452</td>\n",
       "      <td>0.802671</td>\n",
       "      <td>0.787743</td>\n",
       "    </tr>\n",
       "    <tr>\n",
       "      <th>Composure</th>\n",
       "      <td>0.344059</td>\n",
       "      <td>0.802841</td>\n",
       "      <td>0.637438</td>\n",
       "      <td>0.652030</td>\n",
       "      <td>0.508558</td>\n",
       "      <td>0.700673</td>\n",
       "      <td>0.585575</td>\n",
       "      <td>0.646940</td>\n",
       "      <td>0.743151</td>\n",
       "      <td>0.371986</td>\n",
       "      <td>0.430616</td>\n",
       "      <td>0.276167</td>\n",
       "      <td>0.539825</td>\n",
       "      <td>0.386979</td>\n",
       "      <td>0.510055</td>\n",
       "      <td>0.653146</td>\n",
       "      <td>1.000000</td>\n",
       "      <td>0.623235</td>\n",
       "      <td>0.644492</td>\n",
       "      <td>0.624786</td>\n",
       "    </tr>\n",
       "    <tr>\n",
       "      <th>Marking</th>\n",
       "      <td>0.355591</td>\n",
       "      <td>0.811673</td>\n",
       "      <td>0.644020</td>\n",
       "      <td>0.618978</td>\n",
       "      <td>0.552324</td>\n",
       "      <td>0.601514</td>\n",
       "      <td>0.468665</td>\n",
       "      <td>0.527443</td>\n",
       "      <td>0.614893</td>\n",
       "      <td>0.242776</td>\n",
       "      <td>0.305835</td>\n",
       "      <td>0.253765</td>\n",
       "      <td>0.471846</td>\n",
       "      <td>0.374547</td>\n",
       "      <td>0.522901</td>\n",
       "      <td>0.729452</td>\n",
       "      <td>0.623235</td>\n",
       "      <td>1.000000</td>\n",
       "      <td>0.747152</td>\n",
       "      <td>0.729560</td>\n",
       "    </tr>\n",
       "    <tr>\n",
       "      <th>StandingTackle</th>\n",
       "      <td>0.343379</td>\n",
       "      <td>0.845171</td>\n",
       "      <td>0.688636</td>\n",
       "      <td>0.639822</td>\n",
       "      <td>0.612709</td>\n",
       "      <td>0.584222</td>\n",
       "      <td>0.529669</td>\n",
       "      <td>0.472844</td>\n",
       "      <td>0.624899</td>\n",
       "      <td>0.207199</td>\n",
       "      <td>0.235881</td>\n",
       "      <td>0.225867</td>\n",
       "      <td>0.413184</td>\n",
       "      <td>0.390931</td>\n",
       "      <td>0.565057</td>\n",
       "      <td>0.802671</td>\n",
       "      <td>0.644492</td>\n",
       "      <td>0.747152</td>\n",
       "      <td>1.000000</td>\n",
       "      <td>0.906293</td>\n",
       "    </tr>\n",
       "    <tr>\n",
       "      <th>SlidingTackle</th>\n",
       "      <td>0.348775</td>\n",
       "      <td>0.836044</td>\n",
       "      <td>0.679083</td>\n",
       "      <td>0.641418</td>\n",
       "      <td>0.599169</td>\n",
       "      <td>0.554359</td>\n",
       "      <td>0.521313</td>\n",
       "      <td>0.436877</td>\n",
       "      <td>0.603290</td>\n",
       "      <td>0.225660</td>\n",
       "      <td>0.240108</td>\n",
       "      <td>0.223249</td>\n",
       "      <td>0.403732</td>\n",
       "      <td>0.342075</td>\n",
       "      <td>0.576203</td>\n",
       "      <td>0.787743</td>\n",
       "      <td>0.624786</td>\n",
       "      <td>0.729560</td>\n",
       "      <td>0.906293</td>\n",
       "      <td>1.000000</td>\n",
       "    </tr>\n",
       "  </tbody>\n",
       "</table>\n",
       "</div>"
      ],
      "text/plain": [
       "                      Age   Overall  Potential  Crossing  HeadingAccuracy  \\\n",
       "Age              1.000000  0.425804  -0.082397  0.351007         0.267220   \n",
       "Overall          0.425804  1.000000   0.795060  0.831006         0.616930   \n",
       "Potential       -0.082397  0.795060   1.000000  0.662445         0.473976   \n",
       "Crossing         0.351007  0.831006   0.662445  1.000000         0.410759   \n",
       "HeadingAccuracy  0.267220  0.616930   0.473976  0.410759         1.000000   \n",
       "ShortPassing     0.335373  0.809502   0.640855  0.739891         0.477205   \n",
       "Dribbling        0.226019  0.680344   0.590026  0.680872         0.266580   \n",
       "LongPassing      0.290480  0.684009   0.522664  0.642164         0.411771   \n",
       "BallControl      0.338067  0.842682   0.686183  0.781142         0.455296   \n",
       "Acceleration     0.164985  0.463287   0.394429  0.410521         0.007441   \n",
       "SprintSpeed      0.240749  0.520344   0.409304  0.429578         0.143847   \n",
       "Jumping          0.165937  0.301823   0.193812  0.140029         0.268883   \n",
       "Stamina          0.378157  0.641864   0.450712  0.486686         0.301674   \n",
       "Strength         0.295080  0.420636   0.256890  0.264088         0.493012   \n",
       "Aggression       0.245270  0.599742   0.459252  0.418192         0.430714   \n",
       "Interceptions    0.337795  0.838549   0.667143  0.632344         0.560173   \n",
       "Composure        0.344059  0.802841   0.637438  0.652030         0.508558   \n",
       "Marking          0.355591  0.811673   0.644020  0.618978         0.552324   \n",
       "StandingTackle   0.343379  0.845171   0.688636  0.639822         0.612709   \n",
       "SlidingTackle    0.348775  0.836044   0.679083  0.641418         0.599169   \n",
       "\n",
       "                 ShortPassing  Dribbling  LongPassing  BallControl  \\\n",
       "Age                  0.335373   0.226019     0.290480     0.338067   \n",
       "Overall              0.809502   0.680344     0.684009     0.842682   \n",
       "Potential            0.640855   0.590026     0.522664     0.686183   \n",
       "Crossing             0.739891   0.680872     0.642164     0.781142   \n",
       "HeadingAccuracy      0.477205   0.266580     0.411771     0.455296   \n",
       "ShortPassing         1.000000   0.561755     0.818125     0.827129   \n",
       "Dribbling            0.561755   1.000000     0.517544     0.710245   \n",
       "LongPassing          0.818125   0.517544     1.000000     0.694050   \n",
       "BallControl          0.827129   0.710245     0.694050     1.000000   \n",
       "Acceleration         0.330617   0.485274     0.297503     0.412771   \n",
       "SprintSpeed          0.408797   0.455316     0.386357     0.464181   \n",
       "Jumping              0.221234   0.101410     0.200347     0.214673   \n",
       "Stamina              0.483177   0.407389     0.447037     0.489568   \n",
       "Strength             0.352854   0.133421     0.328129     0.322824   \n",
       "Aggression           0.424146   0.402751     0.410866     0.459054   \n",
       "Interceptions        0.581494   0.496056     0.483988     0.613854   \n",
       "Composure            0.700673   0.585575     0.646940     0.743151   \n",
       "Marking              0.601514   0.468665     0.527443     0.614893   \n",
       "StandingTackle       0.584222   0.529669     0.472844     0.624899   \n",
       "SlidingTackle        0.554359   0.521313     0.436877     0.603290   \n",
       "\n",
       "                 Acceleration  SprintSpeed   Jumping   Stamina  Strength  \\\n",
       "Age                  0.164985     0.240749  0.165937  0.378157  0.295080   \n",
       "Overall              0.463287     0.520344  0.301823  0.641864  0.420636   \n",
       "Potential            0.394429     0.409304  0.193812  0.450712  0.256890   \n",
       "Crossing             0.410521     0.429578  0.140029  0.486686  0.264088   \n",
       "HeadingAccuracy      0.007441     0.143847  0.268883  0.301674  0.493012   \n",
       "ShortPassing         0.330617     0.408797  0.221234  0.483177  0.352854   \n",
       "Dribbling            0.485274     0.455316  0.101410  0.407389  0.133421   \n",
       "LongPassing          0.297503     0.386357  0.200347  0.447037  0.328129   \n",
       "BallControl          0.412771     0.464181  0.214673  0.489568  0.322824   \n",
       "Acceleration         1.000000     0.835121  0.204221  0.441081  0.066351   \n",
       "SprintSpeed          0.835121     1.000000  0.231790  0.495512  0.204877   \n",
       "Jumping              0.204221     0.231790  1.000000  0.300686  0.253837   \n",
       "Stamina              0.441081     0.495512  0.300686  1.000000  0.377182   \n",
       "Strength             0.066351     0.204877  0.253837  0.377182  1.000000   \n",
       "Aggression           0.242843     0.280148  0.320229  0.413198  0.389982   \n",
       "Interceptions        0.254707     0.285266  0.255205  0.454103  0.346460   \n",
       "Composure            0.371986     0.430616  0.276167  0.539825  0.386979   \n",
       "Marking              0.242776     0.305835  0.253765  0.471846  0.374547   \n",
       "StandingTackle       0.207199     0.235881  0.225867  0.413184  0.390931   \n",
       "SlidingTackle        0.225660     0.240108  0.223249  0.403732  0.342075   \n",
       "\n",
       "                 Aggression  Interceptions  Composure   Marking  \\\n",
       "Age                0.245270       0.337795   0.344059  0.355591   \n",
       "Overall            0.599742       0.838549   0.802841  0.811673   \n",
       "Potential          0.459252       0.667143   0.637438  0.644020   \n",
       "Crossing           0.418192       0.632344   0.652030  0.618978   \n",
       "HeadingAccuracy    0.430714       0.560173   0.508558  0.552324   \n",
       "ShortPassing       0.424146       0.581494   0.700673  0.601514   \n",
       "Dribbling          0.402751       0.496056   0.585575  0.468665   \n",
       "LongPassing        0.410866       0.483988   0.646940  0.527443   \n",
       "BallControl        0.459054       0.613854   0.743151  0.614893   \n",
       "Acceleration       0.242843       0.254707   0.371986  0.242776   \n",
       "SprintSpeed        0.280148       0.285266   0.430616  0.305835   \n",
       "Jumping            0.320229       0.255205   0.276167  0.253765   \n",
       "Stamina            0.413198       0.454103   0.539825  0.471846   \n",
       "Strength           0.389982       0.346460   0.386979  0.374547   \n",
       "Aggression         1.000000       0.572138   0.510055  0.522901   \n",
       "Interceptions      0.572138       1.000000   0.653146  0.729452   \n",
       "Composure          0.510055       0.653146   1.000000  0.623235   \n",
       "Marking            0.522901       0.729452   0.623235  1.000000   \n",
       "StandingTackle     0.565057       0.802671   0.644492  0.747152   \n",
       "SlidingTackle      0.576203       0.787743   0.624786  0.729560   \n",
       "\n",
       "                 StandingTackle  SlidingTackle  \n",
       "Age                    0.343379       0.348775  \n",
       "Overall                0.845171       0.836044  \n",
       "Potential              0.688636       0.679083  \n",
       "Crossing               0.639822       0.641418  \n",
       "HeadingAccuracy        0.612709       0.599169  \n",
       "ShortPassing           0.584222       0.554359  \n",
       "Dribbling              0.529669       0.521313  \n",
       "LongPassing            0.472844       0.436877  \n",
       "BallControl            0.624899       0.603290  \n",
       "Acceleration           0.207199       0.225660  \n",
       "SprintSpeed            0.235881       0.240108  \n",
       "Jumping                0.225867       0.223249  \n",
       "Stamina                0.413184       0.403732  \n",
       "Strength               0.390931       0.342075  \n",
       "Aggression             0.565057       0.576203  \n",
       "Interceptions          0.802671       0.787743  \n",
       "Composure              0.644492       0.624786  \n",
       "Marking                0.747152       0.729560  \n",
       "StandingTackle         1.000000       0.906293  \n",
       "SlidingTackle          0.906293       1.000000  "
      ]
     },
     "execution_count": 150,
     "metadata": {},
     "output_type": "execute_result"
    }
   ],
   "source": [
    "u23fb.corr()"
   ]
  },
  {
   "cell_type": "code",
   "execution_count": 151,
   "metadata": {},
   "outputs": [],
   "source": [
    "xfb = u23fb[['Age','Overall','Crossing', 'BallControl','Interceptions', 'StandingTackle', 'SlidingTackle']]\n",
    "yfb = u23fb[['Potential']]"
   ]
  },
  {
   "cell_type": "code",
   "execution_count": 246,
   "metadata": {},
   "outputs": [
    {
     "data": {
      "image/png": "[encoded data removed]",
      "text/plain": [
       "<Figure size 432x288 with 1 Axes>"
      ]
     },
     "metadata": {
      "needs_background": "light"
     },
     "output_type": "display_data"
    }
   ],
   "source": [
    "plt.scatter(x = xfb['SlidingTackle'], y = yfb, color = 'blue')\n",
    "plt.title('Potential vs SlidingTackle Scatter Plot', fontsize = 15)\n",
    "plt.xlabel('Pontential', fontsize = 15)\n",
    "plt.ylabel('SlidingTackle', fontsize = 15)\n",
    "plt.show()"
   ]
  },
  {
   "cell_type": "code",
   "execution_count": 153,
   "metadata": {},
   "outputs": [],
   "source": [
    "xfb_train, xfb_test, yfb_train, yfb_test = train_test_split(xfb, yfb, test_size = 0.20, random_state = 0)"
   ]
  },
  {
   "cell_type": "code",
   "execution_count": 154,
   "metadata": {},
   "outputs": [],
   "source": [
    "fblr = LinearRegression()"
   ]
  },
  {
   "cell_type": "code",
   "execution_count": 155,
   "metadata": {},
   "outputs": [
    {
     "data": {
      "text/plain": [
       "LinearRegression(copy_X=True, fit_intercept=True, n_jobs=None, normalize=False)"
      ]
     },
     "execution_count": 155,
     "metadata": {},
     "output_type": "execute_result"
    }
   ],
   "source": [
    "fblr.fit(xfb_train, yfb_train)"
   ]
  },
  {
   "cell_type": "code",
   "execution_count": 156,
   "metadata": {},
   "outputs": [],
   "source": [
    "fbpredict = fblr.predict(xfb_test)"
   ]
  },
  {
   "cell_type": "code",
   "execution_count": 157,
   "metadata": {},
   "outputs": [
    {
     "name": "stdout",
     "output_type": "stream",
     "text": [
      "Intercept : [50.54284728]\n",
      "Root mean square error : 5.366467675209051\n",
      "R2 score : 0.8348795817924303\n"
     ]
    }
   ],
   "source": [
    "print('Intercept :', fblr.intercept_)\n",
    "print('Root mean square error :', mean_squared_error(yfb_test, fbpredict))\n",
    "print('R2 score :', r2_score(yfb_test, fbpredict))"
   ]
  },
  {
   "cell_type": "code",
   "execution_count": 252,
   "metadata": {},
   "outputs": [
    {
     "data": {
      "image/png": "[encoded data removed]",
      "text/plain": [
       "<Figure size 1440x504 with 1 Axes>"
      ]
     },
     "metadata": {
      "needs_background": "light"
     },
     "output_type": "display_data"
    }
   ],
   "source": [
    "y = yfb_test.head(10)\n",
    "x = np.arange(len(y))\n",
    "y1 = pd.DataFrame(fbpredict, columns = ['Predicted_Potential']).head(10)\n",
    "y1.Predicted_Potential = y1.Predicted_Potential.round().astype(int)\n",
    "x1 = np.arange(len(y))\n",
    "width = 0.40\n",
    "fig,ax = plt.subplots(figsize = (20,7))\n",
    "\n",
    "bar1 = ax.bar(x - width/2,y.Potential,width, color = 'Orange', label = 'ACTUAL POTENTIAL')\n",
    "bar2 = ax.bar(x1 + width/2, y1.Predicted_Potential,width, color = 'Navy', label = 'PREDICTED POTENTIAL')\n",
    "ax.legend()\n",
    "ax.set_title('FULL BACK Ratings: Actual Potential vs Predicted Potential', fontsize = 30)\n",
    "ax.set_ylabel('RATINGS',fontsize = 20)\n",
    "\n",
    "def autolabel(bars):\n",
    "    for bar in bars:\n",
    "        height = bar.get_height()\n",
    "        ax.annotate('{}'.format(height),\n",
    "                    xy=(bar.get_x() + bar.get_width() / 2, height),\n",
    "                    xytext=(0, 3),  # 3 points vertical offset\n",
    "                    textcoords=\"offset points\",\n",
    "                    ha='center', va='bottom', fontsize = 15)\n",
    "autolabel(bar1)\n",
    "autolabel(bar2)"
   ]
  },
  {
   "cell_type": "markdown",
   "metadata": {},
   "source": [
    "###### D) DEFENSIVE MIDFIELDER"
   ]
  },
  {
   "cell_type": "code",
   "execution_count": 159,
   "metadata": {},
   "outputs": [],
   "source": [
    "u23cdm = u23[u23.Position.isin(['CDM','LDM','RDM'])]"
   ]
  },
  {
   "cell_type": "code",
   "execution_count": 160,
   "metadata": {},
   "outputs": [],
   "source": [
    "u23cdm = u23cdm[['Name', 'Age','Overall', 'Potential', 'ShortPassing','LongPassing', 'BallControl','Stamina',\n",
    "                 'Strength', 'Aggression','Interceptions', 'Composure',\n",
    "       'Marking', 'StandingTackle', 'SlidingTackle']]"
   ]
  },
  {
   "cell_type": "code",
   "execution_count": 161,
   "metadata": {},
   "outputs": [
    {
     "data": {
      "text/html": [
       "<div>\n",
       "<style scoped>\n",
       "    .dataframe tbody tr th:only-of-type {\n",
       "        vertical-align: middle;\n",
       "    }\n",
       "\n",
       "    .dataframe tbody tr th {\n",
       "        vertical-align: top;\n",
       "    }\n",
       "\n",
       "    .dataframe thead th {\n",
       "        text-align: right;\n",
       "    }\n",
       "</style>\n",
       "<table border=\"1\" class=\"dataframe\">\n",
       "  <thead>\n",
       "    <tr style=\"text-align: right;\">\n",
       "      <th></th>\n",
       "      <th>Age</th>\n",
       "      <th>Overall</th>\n",
       "      <th>Potential</th>\n",
       "      <th>ShortPassing</th>\n",
       "      <th>LongPassing</th>\n",
       "      <th>BallControl</th>\n",
       "      <th>Stamina</th>\n",
       "      <th>Strength</th>\n",
       "      <th>Aggression</th>\n",
       "      <th>Interceptions</th>\n",
       "      <th>Composure</th>\n",
       "      <th>Marking</th>\n",
       "      <th>StandingTackle</th>\n",
       "      <th>SlidingTackle</th>\n",
       "    </tr>\n",
       "  </thead>\n",
       "  <tbody>\n",
       "    <tr>\n",
       "      <th>Age</th>\n",
       "      <td>1.000000</td>\n",
       "      <td>0.434596</td>\n",
       "      <td>-0.113265</td>\n",
       "      <td>0.321486</td>\n",
       "      <td>0.353811</td>\n",
       "      <td>0.339951</td>\n",
       "      <td>0.393141</td>\n",
       "      <td>0.274547</td>\n",
       "      <td>0.283503</td>\n",
       "      <td>0.349232</td>\n",
       "      <td>0.334278</td>\n",
       "      <td>0.313464</td>\n",
       "      <td>0.335501</td>\n",
       "      <td>0.236561</td>\n",
       "    </tr>\n",
       "    <tr>\n",
       "      <th>Overall</th>\n",
       "      <td>0.434596</td>\n",
       "      <td>1.000000</td>\n",
       "      <td>0.774439</td>\n",
       "      <td>0.844394</td>\n",
       "      <td>0.832649</td>\n",
       "      <td>0.867778</td>\n",
       "      <td>0.616438</td>\n",
       "      <td>0.451775</td>\n",
       "      <td>0.553709</td>\n",
       "      <td>0.822279</td>\n",
       "      <td>0.798865</td>\n",
       "      <td>0.700474</td>\n",
       "      <td>0.808592</td>\n",
       "      <td>0.628346</td>\n",
       "    </tr>\n",
       "    <tr>\n",
       "      <th>Potential</th>\n",
       "      <td>-0.113265</td>\n",
       "      <td>0.774439</td>\n",
       "      <td>1.000000</td>\n",
       "      <td>0.694469</td>\n",
       "      <td>0.635480</td>\n",
       "      <td>0.696440</td>\n",
       "      <td>0.390495</td>\n",
       "      <td>0.289381</td>\n",
       "      <td>0.410720</td>\n",
       "      <td>0.643556</td>\n",
       "      <td>0.649805</td>\n",
       "      <td>0.557761</td>\n",
       "      <td>0.646505</td>\n",
       "      <td>0.498391</td>\n",
       "    </tr>\n",
       "    <tr>\n",
       "      <th>ShortPassing</th>\n",
       "      <td>0.321486</td>\n",
       "      <td>0.844394</td>\n",
       "      <td>0.694469</td>\n",
       "      <td>1.000000</td>\n",
       "      <td>0.862316</td>\n",
       "      <td>0.822906</td>\n",
       "      <td>0.360887</td>\n",
       "      <td>0.267190</td>\n",
       "      <td>0.378679</td>\n",
       "      <td>0.592134</td>\n",
       "      <td>0.699893</td>\n",
       "      <td>0.533640</td>\n",
       "      <td>0.629047</td>\n",
       "      <td>0.499957</td>\n",
       "    </tr>\n",
       "    <tr>\n",
       "      <th>LongPassing</th>\n",
       "      <td>0.353811</td>\n",
       "      <td>0.832649</td>\n",
       "      <td>0.635480</td>\n",
       "      <td>0.862316</td>\n",
       "      <td>1.000000</td>\n",
       "      <td>0.803462</td>\n",
       "      <td>0.377772</td>\n",
       "      <td>0.295963</td>\n",
       "      <td>0.369219</td>\n",
       "      <td>0.585958</td>\n",
       "      <td>0.688844</td>\n",
       "      <td>0.479699</td>\n",
       "      <td>0.604638</td>\n",
       "      <td>0.491883</td>\n",
       "    </tr>\n",
       "    <tr>\n",
       "      <th>BallControl</th>\n",
       "      <td>0.339951</td>\n",
       "      <td>0.867778</td>\n",
       "      <td>0.696440</td>\n",
       "      <td>0.822906</td>\n",
       "      <td>0.803462</td>\n",
       "      <td>1.000000</td>\n",
       "      <td>0.446710</td>\n",
       "      <td>0.297714</td>\n",
       "      <td>0.355747</td>\n",
       "      <td>0.628023</td>\n",
       "      <td>0.731355</td>\n",
       "      <td>0.512235</td>\n",
       "      <td>0.637810</td>\n",
       "      <td>0.474717</td>\n",
       "    </tr>\n",
       "    <tr>\n",
       "      <th>Stamina</th>\n",
       "      <td>0.393141</td>\n",
       "      <td>0.616438</td>\n",
       "      <td>0.390495</td>\n",
       "      <td>0.360887</td>\n",
       "      <td>0.377772</td>\n",
       "      <td>0.446710</td>\n",
       "      <td>1.000000</td>\n",
       "      <td>0.374020</td>\n",
       "      <td>0.409494</td>\n",
       "      <td>0.548229</td>\n",
       "      <td>0.485238</td>\n",
       "      <td>0.450593</td>\n",
       "      <td>0.444138</td>\n",
       "      <td>0.288732</td>\n",
       "    </tr>\n",
       "    <tr>\n",
       "      <th>Strength</th>\n",
       "      <td>0.274547</td>\n",
       "      <td>0.451775</td>\n",
       "      <td>0.289381</td>\n",
       "      <td>0.267190</td>\n",
       "      <td>0.295963</td>\n",
       "      <td>0.297714</td>\n",
       "      <td>0.374020</td>\n",
       "      <td>1.000000</td>\n",
       "      <td>0.389793</td>\n",
       "      <td>0.414799</td>\n",
       "      <td>0.306980</td>\n",
       "      <td>0.401052</td>\n",
       "      <td>0.434606</td>\n",
       "      <td>0.269763</td>\n",
       "    </tr>\n",
       "    <tr>\n",
       "      <th>Aggression</th>\n",
       "      <td>0.283503</td>\n",
       "      <td>0.553709</td>\n",
       "      <td>0.410720</td>\n",
       "      <td>0.378679</td>\n",
       "      <td>0.369219</td>\n",
       "      <td>0.355747</td>\n",
       "      <td>0.409494</td>\n",
       "      <td>0.389793</td>\n",
       "      <td>1.000000</td>\n",
       "      <td>0.506729</td>\n",
       "      <td>0.417758</td>\n",
       "      <td>0.466579</td>\n",
       "      <td>0.531530</td>\n",
       "      <td>0.469183</td>\n",
       "    </tr>\n",
       "    <tr>\n",
       "      <th>Interceptions</th>\n",
       "      <td>0.349232</td>\n",
       "      <td>0.822279</td>\n",
       "      <td>0.643556</td>\n",
       "      <td>0.592134</td>\n",
       "      <td>0.585958</td>\n",
       "      <td>0.628023</td>\n",
       "      <td>0.548229</td>\n",
       "      <td>0.414799</td>\n",
       "      <td>0.506729</td>\n",
       "      <td>1.000000</td>\n",
       "      <td>0.627380</td>\n",
       "      <td>0.724617</td>\n",
       "      <td>0.788477</td>\n",
       "      <td>0.657677</td>\n",
       "    </tr>\n",
       "    <tr>\n",
       "      <th>Composure</th>\n",
       "      <td>0.334278</td>\n",
       "      <td>0.798865</td>\n",
       "      <td>0.649805</td>\n",
       "      <td>0.699893</td>\n",
       "      <td>0.688844</td>\n",
       "      <td>0.731355</td>\n",
       "      <td>0.485238</td>\n",
       "      <td>0.306980</td>\n",
       "      <td>0.417758</td>\n",
       "      <td>0.627380</td>\n",
       "      <td>1.000000</td>\n",
       "      <td>0.517409</td>\n",
       "      <td>0.564594</td>\n",
       "      <td>0.423583</td>\n",
       "    </tr>\n",
       "    <tr>\n",
       "      <th>Marking</th>\n",
       "      <td>0.313464</td>\n",
       "      <td>0.700474</td>\n",
       "      <td>0.557761</td>\n",
       "      <td>0.533640</td>\n",
       "      <td>0.479699</td>\n",
       "      <td>0.512235</td>\n",
       "      <td>0.450593</td>\n",
       "      <td>0.401052</td>\n",
       "      <td>0.466579</td>\n",
       "      <td>0.724617</td>\n",
       "      <td>0.517409</td>\n",
       "      <td>1.000000</td>\n",
       "      <td>0.733928</td>\n",
       "      <td>0.589094</td>\n",
       "    </tr>\n",
       "    <tr>\n",
       "      <th>StandingTackle</th>\n",
       "      <td>0.335501</td>\n",
       "      <td>0.808592</td>\n",
       "      <td>0.646505</td>\n",
       "      <td>0.629047</td>\n",
       "      <td>0.604638</td>\n",
       "      <td>0.637810</td>\n",
       "      <td>0.444138</td>\n",
       "      <td>0.434606</td>\n",
       "      <td>0.531530</td>\n",
       "      <td>0.788477</td>\n",
       "      <td>0.564594</td>\n",
       "      <td>0.733928</td>\n",
       "      <td>1.000000</td>\n",
       "      <td>0.800129</td>\n",
       "    </tr>\n",
       "    <tr>\n",
       "      <th>SlidingTackle</th>\n",
       "      <td>0.236561</td>\n",
       "      <td>0.628346</td>\n",
       "      <td>0.498391</td>\n",
       "      <td>0.499957</td>\n",
       "      <td>0.491883</td>\n",
       "      <td>0.474717</td>\n",
       "      <td>0.288732</td>\n",
       "      <td>0.269763</td>\n",
       "      <td>0.469183</td>\n",
       "      <td>0.657677</td>\n",
       "      <td>0.423583</td>\n",
       "      <td>0.589094</td>\n",
       "      <td>0.800129</td>\n",
       "      <td>1.000000</td>\n",
       "    </tr>\n",
       "  </tbody>\n",
       "</table>\n",
       "</div>"
      ],
      "text/plain": [
       "                     Age   Overall  Potential  ShortPassing  LongPassing  \\\n",
       "Age             1.000000  0.434596  -0.113265      0.321486     0.353811   \n",
       "Overall         0.434596  1.000000   0.774439      0.844394     0.832649   \n",
       "Potential      -0.113265  0.774439   1.000000      0.694469     0.635480   \n",
       "ShortPassing    0.321486  0.844394   0.694469      1.000000     0.862316   \n",
       "LongPassing     0.353811  0.832649   0.635480      0.862316     1.000000   \n",
       "BallControl     0.339951  0.867778   0.696440      0.822906     0.803462   \n",
       "Stamina         0.393141  0.616438   0.390495      0.360887     0.377772   \n",
       "Strength        0.274547  0.451775   0.289381      0.267190     0.295963   \n",
       "Aggression      0.283503  0.553709   0.410720      0.378679     0.369219   \n",
       "Interceptions   0.349232  0.822279   0.643556      0.592134     0.585958   \n",
       "Composure       0.334278  0.798865   0.649805      0.699893     0.688844   \n",
       "Marking         0.313464  0.700474   0.557761      0.533640     0.479699   \n",
       "StandingTackle  0.335501  0.808592   0.646505      0.629047     0.604638   \n",
       "SlidingTackle   0.236561  0.628346   0.498391      0.499957     0.491883   \n",
       "\n",
       "                BallControl   Stamina  Strength  Aggression  Interceptions  \\\n",
       "Age                0.339951  0.393141  0.274547    0.283503       0.349232   \n",
       "Overall            0.867778  0.616438  0.451775    0.553709       0.822279   \n",
       "Potential          0.696440  0.390495  0.289381    0.410720       0.643556   \n",
       "ShortPassing       0.822906  0.360887  0.267190    0.378679       0.592134   \n",
       "LongPassing        0.803462  0.377772  0.295963    0.369219       0.585958   \n",
       "BallControl        1.000000  0.446710  0.297714    0.355747       0.628023   \n",
       "Stamina            0.446710  1.000000  0.374020    0.409494       0.548229   \n",
       "Strength           0.297714  0.374020  1.000000    0.389793       0.414799   \n",
       "Aggression         0.355747  0.409494  0.389793    1.000000       0.506729   \n",
       "Interceptions      0.628023  0.548229  0.414799    0.506729       1.000000   \n",
       "Composure          0.731355  0.485238  0.306980    0.417758       0.627380   \n",
       "Marking            0.512235  0.450593  0.401052    0.466579       0.724617   \n",
       "StandingTackle     0.637810  0.444138  0.434606    0.531530       0.788477   \n",
       "SlidingTackle      0.474717  0.288732  0.269763    0.469183       0.657677   \n",
       "\n",
       "                Composure   Marking  StandingTackle  SlidingTackle  \n",
       "Age              0.334278  0.313464        0.335501       0.236561  \n",
       "Overall          0.798865  0.700474        0.808592       0.628346  \n",
       "Potential        0.649805  0.557761        0.646505       0.498391  \n",
       "ShortPassing     0.699893  0.533640        0.629047       0.499957  \n",
       "LongPassing      0.688844  0.479699        0.604638       0.491883  \n",
       "BallControl      0.731355  0.512235        0.637810       0.474717  \n",
       "Stamina          0.485238  0.450593        0.444138       0.288732  \n",
       "Strength         0.306980  0.401052        0.434606       0.269763  \n",
       "Aggression       0.417758  0.466579        0.531530       0.469183  \n",
       "Interceptions    0.627380  0.724617        0.788477       0.657677  \n",
       "Composure        1.000000  0.517409        0.564594       0.423583  \n",
       "Marking          0.517409  1.000000        0.733928       0.589094  \n",
       "StandingTackle   0.564594  0.733928        1.000000       0.800129  \n",
       "SlidingTackle    0.423583  0.589094        0.800129       1.000000  "
      ]
     },
     "execution_count": 161,
     "metadata": {},
     "output_type": "execute_result"
    }
   ],
   "source": [
    "u23cdm.corr()"
   ]
  },
  {
   "cell_type": "code",
   "execution_count": 162,
   "metadata": {},
   "outputs": [],
   "source": [
    "xcdm = u23cdm[['Age','Overall','ShortPassing','LongPassing', 'BallControl', 'Composure', 'StandingTackle']]\n",
    "ycdm = u23cdm[['Potential']]"
   ]
  },
  {
   "cell_type": "code",
   "execution_count": 244,
   "metadata": {},
   "outputs": [
    {
     "data": {
      "image/png": "[encoded data removed]",
      "text/plain": [
       "<Figure size 432x288 with 1 Axes>"
      ]
     },
     "metadata": {
      "needs_background": "light"
     },
     "output_type": "display_data"
    }
   ],
   "source": [
    "plt.scatter(x = xcdm['ShortPassing'], y = ycdm, color = 'blue')\n",
    "plt.title('Potential vs ShortPassing Scatter Plot', fontsize = 15)\n",
    "plt.xlabel('Pontential', fontsize = 15)\n",
    "plt.ylabel('ShortPassing', fontsize = 15)\n",
    "plt.show()"
   ]
  },
  {
   "cell_type": "code",
   "execution_count": 164,
   "metadata": {},
   "outputs": [],
   "source": [
    "xcdm_train, xcdm_test, ycdm_train, ycdm_test = train_test_split(xcdm, ycdm, test_size = 0.20, random_state = 0)"
   ]
  },
  {
   "cell_type": "code",
   "execution_count": 165,
   "metadata": {},
   "outputs": [],
   "source": [
    "cdmlr = LinearRegression()"
   ]
  },
  {
   "cell_type": "code",
   "execution_count": 166,
   "metadata": {},
   "outputs": [
    {
     "data": {
      "text/plain": [
       "LinearRegression(copy_X=True, fit_intercept=True, n_jobs=None, normalize=False)"
      ]
     },
     "execution_count": 166,
     "metadata": {},
     "output_type": "execute_result"
    }
   ],
   "source": [
    "cdmlr.fit(xcdm_train, ycdm_train)"
   ]
  },
  {
   "cell_type": "code",
   "execution_count": 167,
   "metadata": {},
   "outputs": [],
   "source": [
    "cdmpredict = cdmlr.predict(xcdm_test)"
   ]
  },
  {
   "cell_type": "code",
   "execution_count": 168,
   "metadata": {},
   "outputs": [
    {
     "name": "stdout",
     "output_type": "stream",
     "text": [
      "Intercept : [51.86710991]\n",
      "Root mean square error : 4.994911637192226\n",
      "R2 score : 0.8284962894880246\n"
     ]
    }
   ],
   "source": [
    "print('Intercept :', cdmlr.intercept_)\n",
    "print('Root mean square error :', mean_squared_error(ycdm_test, cdmpredict))\n",
    "print('R2 score :', r2_score(ycdm_test, cdmpredict))"
   ]
  },
  {
   "cell_type": "code",
   "execution_count": 253,
   "metadata": {},
   "outputs": [
    {
     "data": {
      "image/png": "[encoded data removed]",
      "text/plain": [
       "<Figure size 1440x504 with 1 Axes>"
      ]
     },
     "metadata": {
      "needs_background": "light"
     },
     "output_type": "display_data"
    }
   ],
   "source": [
    "y = ycdm_test.head(10)\n",
    "x = np.arange(len(y))\n",
    "y1 = pd.DataFrame(cdmpredict, columns = ['Predicted_Potential']).head(10)\n",
    "y1.Predicted_Potential = y1.Predicted_Potential.round().astype(int)\n",
    "x1 = np.arange(len(y))\n",
    "width = 0.40\n",
    "fig,ax = plt.subplots(figsize = (20,7))\n",
    "bar1 = ax.bar(x - width/2,y.Potential,width, color = 'Orange', label = 'ACTUAL POTENTIAL')\n",
    "bar2 = ax.bar(x1 + width/2, y1.Predicted_Potential,width, color = 'Navy', label = 'PREDICTED POTENTIAL')\n",
    "ax.legend()\n",
    "ax.set_title('DEFENSIVE MIDFIELDER Ratings: Actual Potential vs Predicted Potential', fontsize = 30)\n",
    "ax.set_ylabel('RATINGS',fontsize = 20)\n",
    "\n",
    "def autolabel(bars):\n",
    "    for bar in bars:\n",
    "        height = bar.get_height()\n",
    "        ax.annotate('{}'.format(height),\n",
    "                    xy=(bar.get_x() + bar.get_width() / 2, height),\n",
    "                    xytext=(0, 3),  # 3 points vertical offset\n",
    "                    textcoords=\"offset points\",\n",
    "                    ha='center', va='bottom', fontsize = 15)\n",
    "autolabel(bar1)\n",
    "autolabel(bar2)"
   ]
  },
  {
   "cell_type": "markdown",
   "metadata": {},
   "source": [
    "###### E) CENTRAL MIDFIELDER"
   ]
  },
  {
   "cell_type": "code",
   "execution_count": 170,
   "metadata": {},
   "outputs": [],
   "source": [
    "u23cm = u23[u23.Position.isin(['CM','LCM','RCM'])]"
   ]
  },
  {
   "cell_type": "code",
   "execution_count": 171,
   "metadata": {},
   "outputs": [],
   "source": [
    "u23cm = u23cm[['Name','Overall', 'Potential','Age','ShortPassing','Dribbling',\n",
    "               'LongPassing', 'BallControl', 'Reactions',\n",
    "               'LongShots','Positioning', 'Vision']]"
   ]
  },
  {
   "cell_type": "code",
   "execution_count": 172,
   "metadata": {},
   "outputs": [
    {
     "data": {
      "text/html": [
       "<div>\n",
       "<style scoped>\n",
       "    .dataframe tbody tr th:only-of-type {\n",
       "        vertical-align: middle;\n",
       "    }\n",
       "\n",
       "    .dataframe tbody tr th {\n",
       "        vertical-align: top;\n",
       "    }\n",
       "\n",
       "    .dataframe thead th {\n",
       "        text-align: right;\n",
       "    }\n",
       "</style>\n",
       "<table border=\"1\" class=\"dataframe\">\n",
       "  <thead>\n",
       "    <tr style=\"text-align: right;\">\n",
       "      <th></th>\n",
       "      <th>Overall</th>\n",
       "      <th>Potential</th>\n",
       "      <th>Age</th>\n",
       "      <th>ShortPassing</th>\n",
       "      <th>Dribbling</th>\n",
       "      <th>LongPassing</th>\n",
       "      <th>BallControl</th>\n",
       "      <th>Reactions</th>\n",
       "      <th>LongShots</th>\n",
       "      <th>Positioning</th>\n",
       "      <th>Vision</th>\n",
       "    </tr>\n",
       "  </thead>\n",
       "  <tbody>\n",
       "    <tr>\n",
       "      <th>Overall</th>\n",
       "      <td>1.000000</td>\n",
       "      <td>0.834110</td>\n",
       "      <td>0.520162</td>\n",
       "      <td>0.902613</td>\n",
       "      <td>0.892059</td>\n",
       "      <td>0.877915</td>\n",
       "      <td>0.932450</td>\n",
       "      <td>0.862242</td>\n",
       "      <td>0.789789</td>\n",
       "      <td>0.735269</td>\n",
       "      <td>0.882389</td>\n",
       "    </tr>\n",
       "    <tr>\n",
       "      <th>Potential</th>\n",
       "      <td>0.834110</td>\n",
       "      <td>1.000000</td>\n",
       "      <td>0.077495</td>\n",
       "      <td>0.780226</td>\n",
       "      <td>0.777160</td>\n",
       "      <td>0.743753</td>\n",
       "      <td>0.794351</td>\n",
       "      <td>0.718041</td>\n",
       "      <td>0.636238</td>\n",
       "      <td>0.606759</td>\n",
       "      <td>0.744623</td>\n",
       "    </tr>\n",
       "    <tr>\n",
       "      <th>Age</th>\n",
       "      <td>0.520162</td>\n",
       "      <td>0.077495</td>\n",
       "      <td>1.000000</td>\n",
       "      <td>0.439946</td>\n",
       "      <td>0.415846</td>\n",
       "      <td>0.448946</td>\n",
       "      <td>0.444802</td>\n",
       "      <td>0.431570</td>\n",
       "      <td>0.435619</td>\n",
       "      <td>0.386293</td>\n",
       "      <td>0.445438</td>\n",
       "    </tr>\n",
       "    <tr>\n",
       "      <th>ShortPassing</th>\n",
       "      <td>0.902613</td>\n",
       "      <td>0.780226</td>\n",
       "      <td>0.439946</td>\n",
       "      <td>1.000000</td>\n",
       "      <td>0.806246</td>\n",
       "      <td>0.911900</td>\n",
       "      <td>0.854745</td>\n",
       "      <td>0.749763</td>\n",
       "      <td>0.648502</td>\n",
       "      <td>0.613697</td>\n",
       "      <td>0.790396</td>\n",
       "    </tr>\n",
       "    <tr>\n",
       "      <th>Dribbling</th>\n",
       "      <td>0.892059</td>\n",
       "      <td>0.777160</td>\n",
       "      <td>0.415846</td>\n",
       "      <td>0.806246</td>\n",
       "      <td>1.000000</td>\n",
       "      <td>0.784324</td>\n",
       "      <td>0.913213</td>\n",
       "      <td>0.732539</td>\n",
       "      <td>0.716284</td>\n",
       "      <td>0.678266</td>\n",
       "      <td>0.807405</td>\n",
       "    </tr>\n",
       "    <tr>\n",
       "      <th>LongPassing</th>\n",
       "      <td>0.877915</td>\n",
       "      <td>0.743753</td>\n",
       "      <td>0.448946</td>\n",
       "      <td>0.911900</td>\n",
       "      <td>0.784324</td>\n",
       "      <td>1.000000</td>\n",
       "      <td>0.821499</td>\n",
       "      <td>0.695021</td>\n",
       "      <td>0.669036</td>\n",
       "      <td>0.587168</td>\n",
       "      <td>0.781241</td>\n",
       "    </tr>\n",
       "    <tr>\n",
       "      <th>BallControl</th>\n",
       "      <td>0.932450</td>\n",
       "      <td>0.794351</td>\n",
       "      <td>0.444802</td>\n",
       "      <td>0.854745</td>\n",
       "      <td>0.913213</td>\n",
       "      <td>0.821499</td>\n",
       "      <td>1.000000</td>\n",
       "      <td>0.774996</td>\n",
       "      <td>0.747401</td>\n",
       "      <td>0.669150</td>\n",
       "      <td>0.833600</td>\n",
       "    </tr>\n",
       "    <tr>\n",
       "      <th>Reactions</th>\n",
       "      <td>0.862242</td>\n",
       "      <td>0.718041</td>\n",
       "      <td>0.431570</td>\n",
       "      <td>0.749763</td>\n",
       "      <td>0.732539</td>\n",
       "      <td>0.695021</td>\n",
       "      <td>0.774996</td>\n",
       "      <td>1.000000</td>\n",
       "      <td>0.650577</td>\n",
       "      <td>0.651978</td>\n",
       "      <td>0.735407</td>\n",
       "    </tr>\n",
       "    <tr>\n",
       "      <th>LongShots</th>\n",
       "      <td>0.789789</td>\n",
       "      <td>0.636238</td>\n",
       "      <td>0.435619</td>\n",
       "      <td>0.648502</td>\n",
       "      <td>0.716284</td>\n",
       "      <td>0.669036</td>\n",
       "      <td>0.747401</td>\n",
       "      <td>0.650577</td>\n",
       "      <td>1.000000</td>\n",
       "      <td>0.635837</td>\n",
       "      <td>0.693486</td>\n",
       "    </tr>\n",
       "    <tr>\n",
       "      <th>Positioning</th>\n",
       "      <td>0.735269</td>\n",
       "      <td>0.606759</td>\n",
       "      <td>0.386293</td>\n",
       "      <td>0.613697</td>\n",
       "      <td>0.678266</td>\n",
       "      <td>0.587168</td>\n",
       "      <td>0.669150</td>\n",
       "      <td>0.651978</td>\n",
       "      <td>0.635837</td>\n",
       "      <td>1.000000</td>\n",
       "      <td>0.660153</td>\n",
       "    </tr>\n",
       "    <tr>\n",
       "      <th>Vision</th>\n",
       "      <td>0.882389</td>\n",
       "      <td>0.744623</td>\n",
       "      <td>0.445438</td>\n",
       "      <td>0.790396</td>\n",
       "      <td>0.807405</td>\n",
       "      <td>0.781241</td>\n",
       "      <td>0.833600</td>\n",
       "      <td>0.735407</td>\n",
       "      <td>0.693486</td>\n",
       "      <td>0.660153</td>\n",
       "      <td>1.000000</td>\n",
       "    </tr>\n",
       "  </tbody>\n",
       "</table>\n",
       "</div>"
      ],
      "text/plain": [
       "               Overall  Potential       Age  ShortPassing  Dribbling  \\\n",
       "Overall       1.000000   0.834110  0.520162      0.902613   0.892059   \n",
       "Potential     0.834110   1.000000  0.077495      0.780226   0.777160   \n",
       "Age           0.520162   0.077495  1.000000      0.439946   0.415846   \n",
       "ShortPassing  0.902613   0.780226  0.439946      1.000000   0.806246   \n",
       "Dribbling     0.892059   0.777160  0.415846      0.806246   1.000000   \n",
       "LongPassing   0.877915   0.743753  0.448946      0.911900   0.784324   \n",
       "BallControl   0.932450   0.794351  0.444802      0.854745   0.913213   \n",
       "Reactions     0.862242   0.718041  0.431570      0.749763   0.732539   \n",
       "LongShots     0.789789   0.636238  0.435619      0.648502   0.716284   \n",
       "Positioning   0.735269   0.606759  0.386293      0.613697   0.678266   \n",
       "Vision        0.882389   0.744623  0.445438      0.790396   0.807405   \n",
       "\n",
       "              LongPassing  BallControl  Reactions  LongShots  Positioning  \\\n",
       "Overall          0.877915     0.932450   0.862242   0.789789     0.735269   \n",
       "Potential        0.743753     0.794351   0.718041   0.636238     0.606759   \n",
       "Age              0.448946     0.444802   0.431570   0.435619     0.386293   \n",
       "ShortPassing     0.911900     0.854745   0.749763   0.648502     0.613697   \n",
       "Dribbling        0.784324     0.913213   0.732539   0.716284     0.678266   \n",
       "LongPassing      1.000000     0.821499   0.695021   0.669036     0.587168   \n",
       "BallControl      0.821499     1.000000   0.774996   0.747401     0.669150   \n",
       "Reactions        0.695021     0.774996   1.000000   0.650577     0.651978   \n",
       "LongShots        0.669036     0.747401   0.650577   1.000000     0.635837   \n",
       "Positioning      0.587168     0.669150   0.651978   0.635837     1.000000   \n",
       "Vision           0.781241     0.833600   0.735407   0.693486     0.660153   \n",
       "\n",
       "                Vision  \n",
       "Overall       0.882389  \n",
       "Potential     0.744623  \n",
       "Age           0.445438  \n",
       "ShortPassing  0.790396  \n",
       "Dribbling     0.807405  \n",
       "LongPassing   0.781241  \n",
       "BallControl   0.833600  \n",
       "Reactions     0.735407  \n",
       "LongShots     0.693486  \n",
       "Positioning   0.660153  \n",
       "Vision        1.000000  "
      ]
     },
     "execution_count": 172,
     "metadata": {},
     "output_type": "execute_result"
    }
   ],
   "source": [
    "u23cm.corr()"
   ]
  },
  {
   "cell_type": "code",
   "execution_count": 173,
   "metadata": {},
   "outputs": [],
   "source": [
    "xcm = u23cm[['Age','Overall','ShortPassing', 'Dribbling', 'LongPassing', 'BallControl', 'Vision']]\n",
    "ycm = u23cm[['Potential']]"
   ]
  },
  {
   "cell_type": "code",
   "execution_count": 243,
   "metadata": {},
   "outputs": [
    {
     "data": {
      "image/png": "[encoded data removed]",
      "text/plain": [
       "<Figure size 432x288 with 1 Axes>"
      ]
     },
     "metadata": {
      "needs_background": "light"
     },
     "output_type": "display_data"
    }
   ],
   "source": [
    "plt.scatter(x = xcm['BallControl'], y = ycm, color = 'blue')\n",
    "plt.title('Potential vs BallControl Scatter Plot', fontsize = 15)\n",
    "plt.xlabel('Pontential', fontsize = 15)\n",
    "plt.ylabel('BallControl', fontsize = 15)\n",
    "plt.show()"
   ]
  },
  {
   "cell_type": "code",
   "execution_count": 175,
   "metadata": {},
   "outputs": [],
   "source": [
    "xcm_train, xcm_test, ycm_train, ycm_test = train_test_split(xcm, ycm, test_size = 0.20, random_state = 0)"
   ]
  },
  {
   "cell_type": "code",
   "execution_count": 176,
   "metadata": {},
   "outputs": [],
   "source": [
    "cmlr = LinearRegression()"
   ]
  },
  {
   "cell_type": "code",
   "execution_count": 177,
   "metadata": {},
   "outputs": [
    {
     "data": {
      "text/plain": [
       "LinearRegression(copy_X=True, fit_intercept=True, n_jobs=None, normalize=False)"
      ]
     },
     "execution_count": 177,
     "metadata": {},
     "output_type": "execute_result"
    }
   ],
   "source": [
    "cmlr.fit(xcm_train, ycm_train)"
   ]
  },
  {
   "cell_type": "code",
   "execution_count": 178,
   "metadata": {},
   "outputs": [],
   "source": [
    "cmpredict = cmlr.predict(xcm_test)"
   ]
  },
  {
   "cell_type": "code",
   "execution_count": 179,
   "metadata": {},
   "outputs": [
    {
     "name": "stdout",
     "output_type": "stream",
     "text": [
      "Intercept : [49.13594029]\n",
      "Root mean square error : 5.391572660427436\n",
      "R2 score : 0.8760934603906961\n"
     ]
    }
   ],
   "source": [
    "print('Intercept :', cmlr.intercept_)\n",
    "print('Root mean square error :', mean_squared_error(ycm_test, cmpredict))\n",
    "print('R2 score :', r2_score(ycm_test, cmpredict))"
   ]
  },
  {
   "cell_type": "code",
   "execution_count": 255,
   "metadata": {},
   "outputs": [
    {
     "data": {
      "image/png": "[encoded data removed]",
      "text/plain": [
       "<Figure size 1440x504 with 1 Axes>"
      ]
     },
     "metadata": {
      "needs_background": "light"
     },
     "output_type": "display_data"
    }
   ],
   "source": [
    "y = ycm_test.head(10)\n",
    "x = np.arange(len(y))\n",
    "y1 = pd.DataFrame(cmpredict, columns = ['Predicted_Potential']).head(10)\n",
    "y1.Predicted_Potential = y1.Predicted_Potential.round().astype(int)\n",
    "x1 = np.arange(len(y))\n",
    "width = 0.40\n",
    "fig,ax = plt.subplots(figsize = (20,7))\n",
    "\n",
    "bar1 = ax.bar(x - width/2,y.Potential,width, color = 'Orange', label = 'ACTUAL POTENTIAL')\n",
    "bar2 = ax.bar(x1 + width/2, y1.Predicted_Potential,width, color = 'Navy', label = 'PREDICTED POTENTIAL')\n",
    "ax.legend()\n",
    "ax.set_title('CENTRAL MIDFIELDER Ratings: Actual Potential vs Predicted Potential', fontsize = 30)\n",
    "ax.set_ylabel('RATINGS',fontsize = 20)\n",
    "\n",
    "\n",
    "def autolabel(bars):\n",
    "    for bar in bars:\n",
    "        height = bar.get_height()\n",
    "        ax.annotate('{}'.format(height),\n",
    "                    xy=(bar.get_x() + bar.get_width() / 2, height),\n",
    "                    xytext=(0, 3),  # 3 points vertical offset\n",
    "                    textcoords=\"offset points\",\n",
    "                    ha='center', va='bottom', fontsize = 15)\n",
    "autolabel(bar1)\n",
    "autolabel(bar2)"
   ]
  },
  {
   "cell_type": "markdown",
   "metadata": {},
   "source": [
    "###### F) ATTACKING MIDFIELFER"
   ]
  },
  {
   "cell_type": "code",
   "execution_count": 198,
   "metadata": {},
   "outputs": [],
   "source": [
    "u23cam = u23[u23.Position.isin(['CAM','LAM','RAM'])]"
   ]
  },
  {
   "cell_type": "code",
   "execution_count": 199,
   "metadata": {},
   "outputs": [],
   "source": [
    "u23cam = u23cam[['Name','Overall', 'Potential','Age','Crossing','Finishing','ShortPassing',\n",
    "                 'Dribbling','LongPassing', 'BallControl','Reactions','LongShots','Vision']]"
   ]
  },
  {
   "cell_type": "code",
   "execution_count": 200,
   "metadata": {},
   "outputs": [
    {
     "data": {
      "text/html": [
       "<div>\n",
       "<style scoped>\n",
       "    .dataframe tbody tr th:only-of-type {\n",
       "        vertical-align: middle;\n",
       "    }\n",
       "\n",
       "    .dataframe tbody tr th {\n",
       "        vertical-align: top;\n",
       "    }\n",
       "\n",
       "    .dataframe thead th {\n",
       "        text-align: right;\n",
       "    }\n",
       "</style>\n",
       "<table border=\"1\" class=\"dataframe\">\n",
       "  <thead>\n",
       "    <tr style=\"text-align: right;\">\n",
       "      <th></th>\n",
       "      <th>Overall</th>\n",
       "      <th>Potential</th>\n",
       "      <th>Age</th>\n",
       "      <th>Crossing</th>\n",
       "      <th>Finishing</th>\n",
       "      <th>ShortPassing</th>\n",
       "      <th>Dribbling</th>\n",
       "      <th>LongPassing</th>\n",
       "      <th>BallControl</th>\n",
       "      <th>Reactions</th>\n",
       "      <th>LongShots</th>\n",
       "      <th>Vision</th>\n",
       "    </tr>\n",
       "  </thead>\n",
       "  <tbody>\n",
       "    <tr>\n",
       "      <th>Overall</th>\n",
       "      <td>1.000000</td>\n",
       "      <td>0.746055</td>\n",
       "      <td>0.462193</td>\n",
       "      <td>0.752632</td>\n",
       "      <td>0.782213</td>\n",
       "      <td>0.818340</td>\n",
       "      <td>0.870019</td>\n",
       "      <td>0.671063</td>\n",
       "      <td>0.910897</td>\n",
       "      <td>0.778930</td>\n",
       "      <td>0.790052</td>\n",
       "      <td>0.837829</td>\n",
       "    </tr>\n",
       "    <tr>\n",
       "      <th>Potential</th>\n",
       "      <td>0.746055</td>\n",
       "      <td>1.000000</td>\n",
       "      <td>-0.126041</td>\n",
       "      <td>0.566896</td>\n",
       "      <td>0.532753</td>\n",
       "      <td>0.640520</td>\n",
       "      <td>0.688291</td>\n",
       "      <td>0.527594</td>\n",
       "      <td>0.731118</td>\n",
       "      <td>0.487841</td>\n",
       "      <td>0.572287</td>\n",
       "      <td>0.664867</td>\n",
       "    </tr>\n",
       "    <tr>\n",
       "      <th>Age</th>\n",
       "      <td>0.462193</td>\n",
       "      <td>-0.126041</td>\n",
       "      <td>1.000000</td>\n",
       "      <td>0.332816</td>\n",
       "      <td>0.429549</td>\n",
       "      <td>0.346874</td>\n",
       "      <td>0.354179</td>\n",
       "      <td>0.244976</td>\n",
       "      <td>0.351091</td>\n",
       "      <td>0.447465</td>\n",
       "      <td>0.381051</td>\n",
       "      <td>0.326611</td>\n",
       "    </tr>\n",
       "    <tr>\n",
       "      <th>Crossing</th>\n",
       "      <td>0.752632</td>\n",
       "      <td>0.566896</td>\n",
       "      <td>0.332816</td>\n",
       "      <td>1.000000</td>\n",
       "      <td>0.567532</td>\n",
       "      <td>0.633641</td>\n",
       "      <td>0.668476</td>\n",
       "      <td>0.546490</td>\n",
       "      <td>0.704039</td>\n",
       "      <td>0.546498</td>\n",
       "      <td>0.589889</td>\n",
       "      <td>0.662440</td>\n",
       "    </tr>\n",
       "    <tr>\n",
       "      <th>Finishing</th>\n",
       "      <td>0.782213</td>\n",
       "      <td>0.532753</td>\n",
       "      <td>0.429549</td>\n",
       "      <td>0.567532</td>\n",
       "      <td>1.000000</td>\n",
       "      <td>0.494068</td>\n",
       "      <td>0.684420</td>\n",
       "      <td>0.352095</td>\n",
       "      <td>0.688689</td>\n",
       "      <td>0.599108</td>\n",
       "      <td>0.746812</td>\n",
       "      <td>0.537079</td>\n",
       "    </tr>\n",
       "    <tr>\n",
       "      <th>ShortPassing</th>\n",
       "      <td>0.818340</td>\n",
       "      <td>0.640520</td>\n",
       "      <td>0.346874</td>\n",
       "      <td>0.633641</td>\n",
       "      <td>0.494068</td>\n",
       "      <td>1.000000</td>\n",
       "      <td>0.602381</td>\n",
       "      <td>0.843070</td>\n",
       "      <td>0.718726</td>\n",
       "      <td>0.575224</td>\n",
       "      <td>0.568008</td>\n",
       "      <td>0.766414</td>\n",
       "    </tr>\n",
       "    <tr>\n",
       "      <th>Dribbling</th>\n",
       "      <td>0.870019</td>\n",
       "      <td>0.688291</td>\n",
       "      <td>0.354179</td>\n",
       "      <td>0.668476</td>\n",
       "      <td>0.684420</td>\n",
       "      <td>0.602381</td>\n",
       "      <td>1.000000</td>\n",
       "      <td>0.463547</td>\n",
       "      <td>0.885597</td>\n",
       "      <td>0.623664</td>\n",
       "      <td>0.660715</td>\n",
       "      <td>0.648756</td>\n",
       "    </tr>\n",
       "    <tr>\n",
       "      <th>LongPassing</th>\n",
       "      <td>0.671063</td>\n",
       "      <td>0.527594</td>\n",
       "      <td>0.244976</td>\n",
       "      <td>0.546490</td>\n",
       "      <td>0.352095</td>\n",
       "      <td>0.843070</td>\n",
       "      <td>0.463547</td>\n",
       "      <td>1.000000</td>\n",
       "      <td>0.593330</td>\n",
       "      <td>0.507925</td>\n",
       "      <td>0.480140</td>\n",
       "      <td>0.684371</td>\n",
       "    </tr>\n",
       "    <tr>\n",
       "      <th>BallControl</th>\n",
       "      <td>0.910897</td>\n",
       "      <td>0.731118</td>\n",
       "      <td>0.351091</td>\n",
       "      <td>0.704039</td>\n",
       "      <td>0.688689</td>\n",
       "      <td>0.718726</td>\n",
       "      <td>0.885597</td>\n",
       "      <td>0.593330</td>\n",
       "      <td>1.000000</td>\n",
       "      <td>0.670553</td>\n",
       "      <td>0.679965</td>\n",
       "      <td>0.734926</td>\n",
       "    </tr>\n",
       "    <tr>\n",
       "      <th>Reactions</th>\n",
       "      <td>0.778930</td>\n",
       "      <td>0.487841</td>\n",
       "      <td>0.447465</td>\n",
       "      <td>0.546498</td>\n",
       "      <td>0.599108</td>\n",
       "      <td>0.575224</td>\n",
       "      <td>0.623664</td>\n",
       "      <td>0.507925</td>\n",
       "      <td>0.670553</td>\n",
       "      <td>1.000000</td>\n",
       "      <td>0.594992</td>\n",
       "      <td>0.621991</td>\n",
       "    </tr>\n",
       "    <tr>\n",
       "      <th>LongShots</th>\n",
       "      <td>0.790052</td>\n",
       "      <td>0.572287</td>\n",
       "      <td>0.381051</td>\n",
       "      <td>0.589889</td>\n",
       "      <td>0.746812</td>\n",
       "      <td>0.568008</td>\n",
       "      <td>0.660715</td>\n",
       "      <td>0.480140</td>\n",
       "      <td>0.679965</td>\n",
       "      <td>0.594992</td>\n",
       "      <td>1.000000</td>\n",
       "      <td>0.592441</td>\n",
       "    </tr>\n",
       "    <tr>\n",
       "      <th>Vision</th>\n",
       "      <td>0.837829</td>\n",
       "      <td>0.664867</td>\n",
       "      <td>0.326611</td>\n",
       "      <td>0.662440</td>\n",
       "      <td>0.537079</td>\n",
       "      <td>0.766414</td>\n",
       "      <td>0.648756</td>\n",
       "      <td>0.684371</td>\n",
       "      <td>0.734926</td>\n",
       "      <td>0.621991</td>\n",
       "      <td>0.592441</td>\n",
       "      <td>1.000000</td>\n",
       "    </tr>\n",
       "  </tbody>\n",
       "</table>\n",
       "</div>"
      ],
      "text/plain": [
       "               Overall  Potential       Age  Crossing  Finishing  \\\n",
       "Overall       1.000000   0.746055  0.462193  0.752632   0.782213   \n",
       "Potential     0.746055   1.000000 -0.126041  0.566896   0.532753   \n",
       "Age           0.462193  -0.126041  1.000000  0.332816   0.429549   \n",
       "Crossing      0.752632   0.566896  0.332816  1.000000   0.567532   \n",
       "Finishing     0.782213   0.532753  0.429549  0.567532   1.000000   \n",
       "ShortPassing  0.818340   0.640520  0.346874  0.633641   0.494068   \n",
       "Dribbling     0.870019   0.688291  0.354179  0.668476   0.684420   \n",
       "LongPassing   0.671063   0.527594  0.244976  0.546490   0.352095   \n",
       "BallControl   0.910897   0.731118  0.351091  0.704039   0.688689   \n",
       "Reactions     0.778930   0.487841  0.447465  0.546498   0.599108   \n",
       "LongShots     0.790052   0.572287  0.381051  0.589889   0.746812   \n",
       "Vision        0.837829   0.664867  0.326611  0.662440   0.537079   \n",
       "\n",
       "              ShortPassing  Dribbling  LongPassing  BallControl  Reactions  \\\n",
       "Overall           0.818340   0.870019     0.671063     0.910897   0.778930   \n",
       "Potential         0.640520   0.688291     0.527594     0.731118   0.487841   \n",
       "Age               0.346874   0.354179     0.244976     0.351091   0.447465   \n",
       "Crossing          0.633641   0.668476     0.546490     0.704039   0.546498   \n",
       "Finishing         0.494068   0.684420     0.352095     0.688689   0.599108   \n",
       "ShortPassing      1.000000   0.602381     0.843070     0.718726   0.575224   \n",
       "Dribbling         0.602381   1.000000     0.463547     0.885597   0.623664   \n",
       "LongPassing       0.843070   0.463547     1.000000     0.593330   0.507925   \n",
       "BallControl       0.718726   0.885597     0.593330     1.000000   0.670553   \n",
       "Reactions         0.575224   0.623664     0.507925     0.670553   1.000000   \n",
       "LongShots         0.568008   0.660715     0.480140     0.679965   0.594992   \n",
       "Vision            0.766414   0.648756     0.684371     0.734926   0.621991   \n",
       "\n",
       "              LongShots    Vision  \n",
       "Overall        0.790052  0.837829  \n",
       "Potential      0.572287  0.664867  \n",
       "Age            0.381051  0.326611  \n",
       "Crossing       0.589889  0.662440  \n",
       "Finishing      0.746812  0.537079  \n",
       "ShortPassing   0.568008  0.766414  \n",
       "Dribbling      0.660715  0.648756  \n",
       "LongPassing    0.480140  0.684371  \n",
       "BallControl    0.679965  0.734926  \n",
       "Reactions      0.594992  0.621991  \n",
       "LongShots      1.000000  0.592441  \n",
       "Vision         0.592441  1.000000  "
      ]
     },
     "execution_count": 200,
     "metadata": {},
     "output_type": "execute_result"
    }
   ],
   "source": [
    "u23cam.corr()"
   ]
  },
  {
   "cell_type": "code",
   "execution_count": 201,
   "metadata": {},
   "outputs": [],
   "source": [
    "xcam = u23cam[['Overall','Age','Finishing','ShortPassing',\n",
    "                 'Dribbling','BallControl','LongShots']]\n",
    "ycam = u23cam[['Potential']]"
   ]
  },
  {
   "cell_type": "code",
   "execution_count": 242,
   "metadata": {},
   "outputs": [
    {
     "data": {
      "image/png": "[encoded data removed]",
      "text/plain": [
       "<Figure size 432x288 with 1 Axes>"
      ]
     },
     "metadata": {
      "needs_background": "light"
     },
     "output_type": "display_data"
    }
   ],
   "source": [
    "plt.scatter(x = xcam['LongShots'], y = ycam, color = 'blue')\n",
    "plt.title('Potential vs LongShots Scatter Plot', fontsize = 15)\n",
    "plt.xlabel('Pontential', fontsize = 15)\n",
    "plt.ylabel('LongShots', fontsize = 15)\n",
    "plt.show()"
   ]
  },
  {
   "cell_type": "code",
   "execution_count": 203,
   "metadata": {},
   "outputs": [],
   "source": [
    "xcam_train, xcam_test, ycam_train, ycam_test = train_test_split(xcam, ycam, test_size = 0.20, random_state = 0)"
   ]
  },
  {
   "cell_type": "code",
   "execution_count": 204,
   "metadata": {},
   "outputs": [],
   "source": [
    "camlr = LinearRegression()"
   ]
  },
  {
   "cell_type": "code",
   "execution_count": 205,
   "metadata": {},
   "outputs": [
    {
     "data": {
      "text/plain": [
       "LinearRegression(copy_X=True, fit_intercept=True, n_jobs=None, normalize=False)"
      ]
     },
     "execution_count": 205,
     "metadata": {},
     "output_type": "execute_result"
    }
   ],
   "source": [
    "camlr.fit(xcam_train, ycam_train)"
   ]
  },
  {
   "cell_type": "code",
   "execution_count": 206,
   "metadata": {},
   "outputs": [],
   "source": [
    "campredict = camlr.predict(xcam_test)"
   ]
  },
  {
   "cell_type": "code",
   "execution_count": 207,
   "metadata": {},
   "outputs": [
    {
     "name": "stdout",
     "output_type": "stream",
     "text": [
      "Intercept :  [52.61743712]\n",
      "Mean Sqaured Error :  6.134280487990313\n",
      "R2 Score :  0.8279643205361391\n"
     ]
    }
   ],
   "source": [
    "print('Intercept : ',camlr.intercept_)\n",
    "print('Mean Sqaured Error : ',mean_squared_error(ycam_test, campredict))\n",
    "print('R2 Score : ', r2_score(ycam_test, campredict))"
   ]
  },
  {
   "cell_type": "code",
   "execution_count": 256,
   "metadata": {},
   "outputs": [
    {
     "data": {
      "image/png": "[encoded data removed]",
      "text/plain": [
       "<Figure size 1440x504 with 1 Axes>"
      ]
     },
     "metadata": {
      "needs_background": "light"
     },
     "output_type": "display_data"
    }
   ],
   "source": [
    "y = ycam_test.head(10)\n",
    "x = np.arange(len(y))\n",
    "y1 = pd.DataFrame(campredict, columns = ['Predicted_Potential']).head(10)\n",
    "y1.Predicted_Potential = y1.Predicted_Potential.round().astype(int)\n",
    "x1 = np.arange(len(y))\n",
    "width = 0.40\n",
    "fig,ax = plt.subplots(figsize = (20,7))\n",
    "\n",
    "bar1 = ax.bar(x - width/2,y.Potential,width, color = 'Orange', label = 'ACTUAL POTENTIAL')\n",
    "bar2 = ax.bar(x1 + width/2, y1.Predicted_Potential,width, color = 'Navy', label = 'PREDICTED POTENTIAL')\n",
    "ax.legend()\n",
    "ax.set_title('ATTACKING MIDFIELDER Ratings: Actual Potential vs Predicted Potential', fontsize = 30)\n",
    "ax.set_ylabel('RATINGS',fontsize = 20)\n",
    "\n",
    "def autolabel(bars):\n",
    "    for bar in bars:\n",
    "        height = bar.get_height()\n",
    "        ax.annotate('{}'.format(height),\n",
    "                    xy=(bar.get_x() + bar.get_width() / 2, height),\n",
    "                    xytext=(0, 3),  # 3 points vertical offset\n",
    "                    textcoords=\"offset points\",\n",
    "                    ha='center', va='bottom', fontsize = 15)\n",
    "autolabel(bar1)\n",
    "autolabel(bar2)"
   ]
  },
  {
   "cell_type": "markdown",
   "metadata": {},
   "source": [
    "###### G) WINGER / WIDE MIDFIELDER"
   ]
  },
  {
   "cell_type": "code",
   "execution_count": 210,
   "metadata": {},
   "outputs": [],
   "source": [
    "u23wg = u23[u23.Position.isin(['LW','RW','LM','RM'])]"
   ]
  },
  {
   "cell_type": "code",
   "execution_count": 211,
   "metadata": {},
   "outputs": [],
   "source": [
    "u23wg = u23wg[['Name','Overall', 'Potential','Age','Crossing','Finishing','ShortPassing', 'Volleys',\n",
    "               'Dribbling','Curve', 'FKAccuracy', 'LongPassing', 'BallControl',\n",
    "               'Reactions','LongShots', 'Aggression','Positioning', 'Vision']]"
   ]
  },
  {
   "cell_type": "code",
   "execution_count": 212,
   "metadata": {},
   "outputs": [
    {
     "data": {
      "text/html": [
       "<div>\n",
       "<style scoped>\n",
       "    .dataframe tbody tr th:only-of-type {\n",
       "        vertical-align: middle;\n",
       "    }\n",
       "\n",
       "    .dataframe tbody tr th {\n",
       "        vertical-align: top;\n",
       "    }\n",
       "\n",
       "    .dataframe thead th {\n",
       "        text-align: right;\n",
       "    }\n",
       "</style>\n",
       "<table border=\"1\" class=\"dataframe\">\n",
       "  <thead>\n",
       "    <tr style=\"text-align: right;\">\n",
       "      <th></th>\n",
       "      <th>Overall</th>\n",
       "      <th>Potential</th>\n",
       "      <th>Age</th>\n",
       "      <th>Crossing</th>\n",
       "      <th>Finishing</th>\n",
       "      <th>ShortPassing</th>\n",
       "      <th>Volleys</th>\n",
       "      <th>Dribbling</th>\n",
       "      <th>Curve</th>\n",
       "      <th>FKAccuracy</th>\n",
       "      <th>LongPassing</th>\n",
       "      <th>BallControl</th>\n",
       "      <th>Reactions</th>\n",
       "      <th>LongShots</th>\n",
       "      <th>Aggression</th>\n",
       "      <th>Positioning</th>\n",
       "      <th>Vision</th>\n",
       "    </tr>\n",
       "  </thead>\n",
       "  <tbody>\n",
       "    <tr>\n",
       "      <th>Overall</th>\n",
       "      <td>1.000000</td>\n",
       "      <td>0.800808</td>\n",
       "      <td>0.397217</td>\n",
       "      <td>0.759119</td>\n",
       "      <td>0.704523</td>\n",
       "      <td>0.850063</td>\n",
       "      <td>0.622069</td>\n",
       "      <td>0.896692</td>\n",
       "      <td>0.666825</td>\n",
       "      <td>0.520671</td>\n",
       "      <td>0.639674</td>\n",
       "      <td>0.910297</td>\n",
       "      <td>0.826816</td>\n",
       "      <td>0.732913</td>\n",
       "      <td>0.371882</td>\n",
       "      <td>0.826020</td>\n",
       "      <td>0.810435</td>\n",
       "    </tr>\n",
       "    <tr>\n",
       "      <th>Potential</th>\n",
       "      <td>0.800808</td>\n",
       "      <td>1.000000</td>\n",
       "      <td>-0.112332</td>\n",
       "      <td>0.584689</td>\n",
       "      <td>0.587425</td>\n",
       "      <td>0.667712</td>\n",
       "      <td>0.517611</td>\n",
       "      <td>0.770733</td>\n",
       "      <td>0.553541</td>\n",
       "      <td>0.414186</td>\n",
       "      <td>0.466253</td>\n",
       "      <td>0.766208</td>\n",
       "      <td>0.632691</td>\n",
       "      <td>0.568004</td>\n",
       "      <td>0.232822</td>\n",
       "      <td>0.666428</td>\n",
       "      <td>0.658621</td>\n",
       "    </tr>\n",
       "    <tr>\n",
       "      <th>Age</th>\n",
       "      <td>0.397217</td>\n",
       "      <td>-0.112332</td>\n",
       "      <td>1.000000</td>\n",
       "      <td>0.314935</td>\n",
       "      <td>0.257722</td>\n",
       "      <td>0.342399</td>\n",
       "      <td>0.199855</td>\n",
       "      <td>0.287070</td>\n",
       "      <td>0.225412</td>\n",
       "      <td>0.214217</td>\n",
       "      <td>0.314749</td>\n",
       "      <td>0.304108</td>\n",
       "      <td>0.373727</td>\n",
       "      <td>0.330689</td>\n",
       "      <td>0.263565</td>\n",
       "      <td>0.322594</td>\n",
       "      <td>0.305159</td>\n",
       "    </tr>\n",
       "    <tr>\n",
       "      <th>Crossing</th>\n",
       "      <td>0.759119</td>\n",
       "      <td>0.584689</td>\n",
       "      <td>0.314935</td>\n",
       "      <td>1.000000</td>\n",
       "      <td>0.443611</td>\n",
       "      <td>0.697779</td>\n",
       "      <td>0.453179</td>\n",
       "      <td>0.666863</td>\n",
       "      <td>0.593934</td>\n",
       "      <td>0.504375</td>\n",
       "      <td>0.624550</td>\n",
       "      <td>0.683613</td>\n",
       "      <td>0.562675</td>\n",
       "      <td>0.497817</td>\n",
       "      <td>0.232673</td>\n",
       "      <td>0.574301</td>\n",
       "      <td>0.611431</td>\n",
       "    </tr>\n",
       "    <tr>\n",
       "      <th>Finishing</th>\n",
       "      <td>0.704523</td>\n",
       "      <td>0.587425</td>\n",
       "      <td>0.257722</td>\n",
       "      <td>0.443611</td>\n",
       "      <td>1.000000</td>\n",
       "      <td>0.487504</td>\n",
       "      <td>0.655801</td>\n",
       "      <td>0.664441</td>\n",
       "      <td>0.475572</td>\n",
       "      <td>0.347883</td>\n",
       "      <td>0.294559</td>\n",
       "      <td>0.653791</td>\n",
       "      <td>0.520510</td>\n",
       "      <td>0.706565</td>\n",
       "      <td>0.098656</td>\n",
       "      <td>0.692847</td>\n",
       "      <td>0.531254</td>\n",
       "    </tr>\n",
       "    <tr>\n",
       "      <th>ShortPassing</th>\n",
       "      <td>0.850063</td>\n",
       "      <td>0.667712</td>\n",
       "      <td>0.342399</td>\n",
       "      <td>0.697779</td>\n",
       "      <td>0.487504</td>\n",
       "      <td>1.000000</td>\n",
       "      <td>0.476997</td>\n",
       "      <td>0.710257</td>\n",
       "      <td>0.594994</td>\n",
       "      <td>0.485051</td>\n",
       "      <td>0.796700</td>\n",
       "      <td>0.774346</td>\n",
       "      <td>0.712116</td>\n",
       "      <td>0.599040</td>\n",
       "      <td>0.385468</td>\n",
       "      <td>0.652365</td>\n",
       "      <td>0.754878</td>\n",
       "    </tr>\n",
       "    <tr>\n",
       "      <th>Volleys</th>\n",
       "      <td>0.622069</td>\n",
       "      <td>0.517611</td>\n",
       "      <td>0.199855</td>\n",
       "      <td>0.453179</td>\n",
       "      <td>0.655801</td>\n",
       "      <td>0.476997</td>\n",
       "      <td>1.000000</td>\n",
       "      <td>0.618535</td>\n",
       "      <td>0.627218</td>\n",
       "      <td>0.490450</td>\n",
       "      <td>0.327872</td>\n",
       "      <td>0.613450</td>\n",
       "      <td>0.480758</td>\n",
       "      <td>0.664926</td>\n",
       "      <td>0.108166</td>\n",
       "      <td>0.542335</td>\n",
       "      <td>0.516787</td>\n",
       "    </tr>\n",
       "    <tr>\n",
       "      <th>Dribbling</th>\n",
       "      <td>0.896692</td>\n",
       "      <td>0.770733</td>\n",
       "      <td>0.287070</td>\n",
       "      <td>0.666863</td>\n",
       "      <td>0.664441</td>\n",
       "      <td>0.710257</td>\n",
       "      <td>0.618535</td>\n",
       "      <td>1.000000</td>\n",
       "      <td>0.633930</td>\n",
       "      <td>0.483580</td>\n",
       "      <td>0.505588</td>\n",
       "      <td>0.902047</td>\n",
       "      <td>0.694092</td>\n",
       "      <td>0.657427</td>\n",
       "      <td>0.220768</td>\n",
       "      <td>0.699194</td>\n",
       "      <td>0.713753</td>\n",
       "    </tr>\n",
       "    <tr>\n",
       "      <th>Curve</th>\n",
       "      <td>0.666825</td>\n",
       "      <td>0.553541</td>\n",
       "      <td>0.225412</td>\n",
       "      <td>0.593934</td>\n",
       "      <td>0.475572</td>\n",
       "      <td>0.594994</td>\n",
       "      <td>0.627218</td>\n",
       "      <td>0.633930</td>\n",
       "      <td>1.000000</td>\n",
       "      <td>0.719820</td>\n",
       "      <td>0.508154</td>\n",
       "      <td>0.657786</td>\n",
       "      <td>0.524963</td>\n",
       "      <td>0.626114</td>\n",
       "      <td>0.253149</td>\n",
       "      <td>0.499907</td>\n",
       "      <td>0.614394</td>\n",
       "    </tr>\n",
       "    <tr>\n",
       "      <th>FKAccuracy</th>\n",
       "      <td>0.520671</td>\n",
       "      <td>0.414186</td>\n",
       "      <td>0.214217</td>\n",
       "      <td>0.504375</td>\n",
       "      <td>0.347883</td>\n",
       "      <td>0.485051</td>\n",
       "      <td>0.490450</td>\n",
       "      <td>0.483580</td>\n",
       "      <td>0.719820</td>\n",
       "      <td>1.000000</td>\n",
       "      <td>0.474909</td>\n",
       "      <td>0.502257</td>\n",
       "      <td>0.407384</td>\n",
       "      <td>0.520485</td>\n",
       "      <td>0.213153</td>\n",
       "      <td>0.373760</td>\n",
       "      <td>0.536544</td>\n",
       "    </tr>\n",
       "    <tr>\n",
       "      <th>LongPassing</th>\n",
       "      <td>0.639674</td>\n",
       "      <td>0.466253</td>\n",
       "      <td>0.314749</td>\n",
       "      <td>0.624550</td>\n",
       "      <td>0.294559</td>\n",
       "      <td>0.796700</td>\n",
       "      <td>0.327872</td>\n",
       "      <td>0.505588</td>\n",
       "      <td>0.508154</td>\n",
       "      <td>0.474909</td>\n",
       "      <td>1.000000</td>\n",
       "      <td>0.564865</td>\n",
       "      <td>0.515530</td>\n",
       "      <td>0.434477</td>\n",
       "      <td>0.340860</td>\n",
       "      <td>0.442493</td>\n",
       "      <td>0.628862</td>\n",
       "    </tr>\n",
       "    <tr>\n",
       "      <th>BallControl</th>\n",
       "      <td>0.910297</td>\n",
       "      <td>0.766208</td>\n",
       "      <td>0.304108</td>\n",
       "      <td>0.683613</td>\n",
       "      <td>0.653791</td>\n",
       "      <td>0.774346</td>\n",
       "      <td>0.613450</td>\n",
       "      <td>0.902047</td>\n",
       "      <td>0.657786</td>\n",
       "      <td>0.502257</td>\n",
       "      <td>0.564865</td>\n",
       "      <td>1.000000</td>\n",
       "      <td>0.715349</td>\n",
       "      <td>0.675999</td>\n",
       "      <td>0.268288</td>\n",
       "      <td>0.712960</td>\n",
       "      <td>0.747776</td>\n",
       "    </tr>\n",
       "    <tr>\n",
       "      <th>Reactions</th>\n",
       "      <td>0.826816</td>\n",
       "      <td>0.632691</td>\n",
       "      <td>0.373727</td>\n",
       "      <td>0.562675</td>\n",
       "      <td>0.520510</td>\n",
       "      <td>0.712116</td>\n",
       "      <td>0.480758</td>\n",
       "      <td>0.694092</td>\n",
       "      <td>0.524963</td>\n",
       "      <td>0.407384</td>\n",
       "      <td>0.515530</td>\n",
       "      <td>0.715349</td>\n",
       "      <td>1.000000</td>\n",
       "      <td>0.594913</td>\n",
       "      <td>0.423507</td>\n",
       "      <td>0.723493</td>\n",
       "      <td>0.691513</td>\n",
       "    </tr>\n",
       "    <tr>\n",
       "      <th>LongShots</th>\n",
       "      <td>0.732913</td>\n",
       "      <td>0.568004</td>\n",
       "      <td>0.330689</td>\n",
       "      <td>0.497817</td>\n",
       "      <td>0.706565</td>\n",
       "      <td>0.599040</td>\n",
       "      <td>0.664926</td>\n",
       "      <td>0.657427</td>\n",
       "      <td>0.626114</td>\n",
       "      <td>0.520485</td>\n",
       "      <td>0.434477</td>\n",
       "      <td>0.675999</td>\n",
       "      <td>0.594913</td>\n",
       "      <td>1.000000</td>\n",
       "      <td>0.261978</td>\n",
       "      <td>0.645047</td>\n",
       "      <td>0.626389</td>\n",
       "    </tr>\n",
       "    <tr>\n",
       "      <th>Aggression</th>\n",
       "      <td>0.371882</td>\n",
       "      <td>0.232822</td>\n",
       "      <td>0.263565</td>\n",
       "      <td>0.232673</td>\n",
       "      <td>0.098656</td>\n",
       "      <td>0.385468</td>\n",
       "      <td>0.108166</td>\n",
       "      <td>0.220768</td>\n",
       "      <td>0.253149</td>\n",
       "      <td>0.213153</td>\n",
       "      <td>0.340860</td>\n",
       "      <td>0.268288</td>\n",
       "      <td>0.423507</td>\n",
       "      <td>0.261978</td>\n",
       "      <td>1.000000</td>\n",
       "      <td>0.315804</td>\n",
       "      <td>0.311445</td>\n",
       "    </tr>\n",
       "    <tr>\n",
       "      <th>Positioning</th>\n",
       "      <td>0.826020</td>\n",
       "      <td>0.666428</td>\n",
       "      <td>0.322594</td>\n",
       "      <td>0.574301</td>\n",
       "      <td>0.692847</td>\n",
       "      <td>0.652365</td>\n",
       "      <td>0.542335</td>\n",
       "      <td>0.699194</td>\n",
       "      <td>0.499907</td>\n",
       "      <td>0.373760</td>\n",
       "      <td>0.442493</td>\n",
       "      <td>0.712960</td>\n",
       "      <td>0.723493</td>\n",
       "      <td>0.645047</td>\n",
       "      <td>0.315804</td>\n",
       "      <td>1.000000</td>\n",
       "      <td>0.661977</td>\n",
       "    </tr>\n",
       "    <tr>\n",
       "      <th>Vision</th>\n",
       "      <td>0.810435</td>\n",
       "      <td>0.658621</td>\n",
       "      <td>0.305159</td>\n",
       "      <td>0.611431</td>\n",
       "      <td>0.531254</td>\n",
       "      <td>0.754878</td>\n",
       "      <td>0.516787</td>\n",
       "      <td>0.713753</td>\n",
       "      <td>0.614394</td>\n",
       "      <td>0.536544</td>\n",
       "      <td>0.628862</td>\n",
       "      <td>0.747776</td>\n",
       "      <td>0.691513</td>\n",
       "      <td>0.626389</td>\n",
       "      <td>0.311445</td>\n",
       "      <td>0.661977</td>\n",
       "      <td>1.000000</td>\n",
       "    </tr>\n",
       "  </tbody>\n",
       "</table>\n",
       "</div>"
      ],
      "text/plain": [
       "               Overall  Potential       Age  Crossing  Finishing  \\\n",
       "Overall       1.000000   0.800808  0.397217  0.759119   0.704523   \n",
       "Potential     0.800808   1.000000 -0.112332  0.584689   0.587425   \n",
       "Age           0.397217  -0.112332  1.000000  0.314935   0.257722   \n",
       "Crossing      0.759119   0.584689  0.314935  1.000000   0.443611   \n",
       "Finishing     0.704523   0.587425  0.257722  0.443611   1.000000   \n",
       "ShortPassing  0.850063   0.667712  0.342399  0.697779   0.487504   \n",
       "Volleys       0.622069   0.517611  0.199855  0.453179   0.655801   \n",
       "Dribbling     0.896692   0.770733  0.287070  0.666863   0.664441   \n",
       "Curve         0.666825   0.553541  0.225412  0.593934   0.475572   \n",
       "FKAccuracy    0.520671   0.414186  0.214217  0.504375   0.347883   \n",
       "LongPassing   0.639674   0.466253  0.314749  0.624550   0.294559   \n",
       "BallControl   0.910297   0.766208  0.304108  0.683613   0.653791   \n",
       "Reactions     0.826816   0.632691  0.373727  0.562675   0.520510   \n",
       "LongShots     0.732913   0.568004  0.330689  0.497817   0.706565   \n",
       "Aggression    0.371882   0.232822  0.263565  0.232673   0.098656   \n",
       "Positioning   0.826020   0.666428  0.322594  0.574301   0.692847   \n",
       "Vision        0.810435   0.658621  0.305159  0.611431   0.531254   \n",
       "\n",
       "              ShortPassing   Volleys  Dribbling     Curve  FKAccuracy  \\\n",
       "Overall           0.850063  0.622069   0.896692  0.666825    0.520671   \n",
       "Potential         0.667712  0.517611   0.770733  0.553541    0.414186   \n",
       "Age               0.342399  0.199855   0.287070  0.225412    0.214217   \n",
       "Crossing          0.697779  0.453179   0.666863  0.593934    0.504375   \n",
       "Finishing         0.487504  0.655801   0.664441  0.475572    0.347883   \n",
       "ShortPassing      1.000000  0.476997   0.710257  0.594994    0.485051   \n",
       "Volleys           0.476997  1.000000   0.618535  0.627218    0.490450   \n",
       "Dribbling         0.710257  0.618535   1.000000  0.633930    0.483580   \n",
       "Curve             0.594994  0.627218   0.633930  1.000000    0.719820   \n",
       "FKAccuracy        0.485051  0.490450   0.483580  0.719820    1.000000   \n",
       "LongPassing       0.796700  0.327872   0.505588  0.508154    0.474909   \n",
       "BallControl       0.774346  0.613450   0.902047  0.657786    0.502257   \n",
       "Reactions         0.712116  0.480758   0.694092  0.524963    0.407384   \n",
       "LongShots         0.599040  0.664926   0.657427  0.626114    0.520485   \n",
       "Aggression        0.385468  0.108166   0.220768  0.253149    0.213153   \n",
       "Positioning       0.652365  0.542335   0.699194  0.499907    0.373760   \n",
       "Vision            0.754878  0.516787   0.713753  0.614394    0.536544   \n",
       "\n",
       "              LongPassing  BallControl  Reactions  LongShots  Aggression  \\\n",
       "Overall          0.639674     0.910297   0.826816   0.732913    0.371882   \n",
       "Potential        0.466253     0.766208   0.632691   0.568004    0.232822   \n",
       "Age              0.314749     0.304108   0.373727   0.330689    0.263565   \n",
       "Crossing         0.624550     0.683613   0.562675   0.497817    0.232673   \n",
       "Finishing        0.294559     0.653791   0.520510   0.706565    0.098656   \n",
       "ShortPassing     0.796700     0.774346   0.712116   0.599040    0.385468   \n",
       "Volleys          0.327872     0.613450   0.480758   0.664926    0.108166   \n",
       "Dribbling        0.505588     0.902047   0.694092   0.657427    0.220768   \n",
       "Curve            0.508154     0.657786   0.524963   0.626114    0.253149   \n",
       "FKAccuracy       0.474909     0.502257   0.407384   0.520485    0.213153   \n",
       "LongPassing      1.000000     0.564865   0.515530   0.434477    0.340860   \n",
       "BallControl      0.564865     1.000000   0.715349   0.675999    0.268288   \n",
       "Reactions        0.515530     0.715349   1.000000   0.594913    0.423507   \n",
       "LongShots        0.434477     0.675999   0.594913   1.000000    0.261978   \n",
       "Aggression       0.340860     0.268288   0.423507   0.261978    1.000000   \n",
       "Positioning      0.442493     0.712960   0.723493   0.645047    0.315804   \n",
       "Vision           0.628862     0.747776   0.691513   0.626389    0.311445   \n",
       "\n",
       "              Positioning    Vision  \n",
       "Overall          0.826020  0.810435  \n",
       "Potential        0.666428  0.658621  \n",
       "Age              0.322594  0.305159  \n",
       "Crossing         0.574301  0.611431  \n",
       "Finishing        0.692847  0.531254  \n",
       "ShortPassing     0.652365  0.754878  \n",
       "Volleys          0.542335  0.516787  \n",
       "Dribbling        0.699194  0.713753  \n",
       "Curve            0.499907  0.614394  \n",
       "FKAccuracy       0.373760  0.536544  \n",
       "LongPassing      0.442493  0.628862  \n",
       "BallControl      0.712960  0.747776  \n",
       "Reactions        0.723493  0.691513  \n",
       "LongShots        0.645047  0.626389  \n",
       "Aggression       0.315804  0.311445  \n",
       "Positioning      1.000000  0.661977  \n",
       "Vision           0.661977  1.000000  "
      ]
     },
     "execution_count": 212,
     "metadata": {},
     "output_type": "execute_result"
    }
   ],
   "source": [
    "u23wg.corr()"
   ]
  },
  {
   "cell_type": "code",
   "execution_count": 213,
   "metadata": {},
   "outputs": [],
   "source": [
    "xwg = u23wg[['Overall','Age','Finishing','Crossing','ShortPassing',\n",
    "               'Dribbling','BallControl']]\n",
    "ywg = u23wg[['Potential']]"
   ]
  },
  {
   "cell_type": "code",
   "execution_count": 241,
   "metadata": {},
   "outputs": [
    {
     "data": {
      "image/png": "[encoded data removed]",
      "text/plain": [
       "<Figure size 432x288 with 1 Axes>"
      ]
     },
     "metadata": {
      "needs_background": "light"
     },
     "output_type": "display_data"
    }
   ],
   "source": [
    "plt.scatter(x = xwg['Dribbling'], y = ywg, color = 'blue')\n",
    "plt.title('Potential vs Dribbling Scatter Plot', fontsize = 15)\n",
    "plt.xlabel('Pontential', fontsize = 15)\n",
    "plt.ylabel('Dribbling', fontsize = 15)\n",
    "plt.show()"
   ]
  },
  {
   "cell_type": "code",
   "execution_count": 215,
   "metadata": {},
   "outputs": [],
   "source": [
    "xwg_train, xwg_test, ywg_train, ywg_test = train_test_split(xwg, ywg, test_size = 0.20, random_state = 0)"
   ]
  },
  {
   "cell_type": "code",
   "execution_count": 216,
   "metadata": {},
   "outputs": [],
   "source": [
    "wglr = LinearRegression()"
   ]
  },
  {
   "cell_type": "code",
   "execution_count": 217,
   "metadata": {},
   "outputs": [
    {
     "data": {
      "text/plain": [
       "LinearRegression(copy_X=True, fit_intercept=True, n_jobs=None, normalize=False)"
      ]
     },
     "execution_count": 217,
     "metadata": {},
     "output_type": "execute_result"
    }
   ],
   "source": [
    "wglr.fit(xwg_train, ywg_train)"
   ]
  },
  {
   "cell_type": "code",
   "execution_count": 218,
   "metadata": {},
   "outputs": [],
   "source": [
    "wgpredict = wglr.predict(xwg_test)"
   ]
  },
  {
   "cell_type": "code",
   "execution_count": 219,
   "metadata": {},
   "outputs": [
    {
     "name": "stdout",
     "output_type": "stream",
     "text": [
      "Intercept :  [53.26872812]\n",
      "Mean Sqaured Error :  4.897028784707573\n",
      "R2 Score :  0.8839914898259899\n"
     ]
    }
   ],
   "source": [
    "print('Intercept : ',wglr.intercept_)\n",
    "print('Mean Sqaured Error : ',mean_squared_error(ywg_test, wgpredict))\n",
    "print('R2 Score : ', r2_score(ywg_test, wgpredict))"
   ]
  },
  {
   "cell_type": "code",
   "execution_count": 257,
   "metadata": {},
   "outputs": [
    {
     "data": {
      "image/png": "[encoded data removed]",
      "text/plain": [
       "<Figure size 1440x504 with 1 Axes>"
      ]
     },
     "metadata": {
      "needs_background": "light"
     },
     "output_type": "display_data"
    }
   ],
   "source": [
    "y = ywg_test.head(10)\n",
    "x = np.arange(len(y))\n",
    "y1 = pd.DataFrame(wgpredict, columns = ['Predicted_Potential']).head(10)\n",
    "y1.Predicted_Potential = y1.Predicted_Potential.round().astype(int)\n",
    "x1 = np.arange(len(y))\n",
    "width = 0.40\n",
    "fig,ax = plt.subplots(figsize = (20,7))\n",
    "\n",
    "bar1 = ax.bar(x - width/2,y.Potential,width, color = 'Orange', label = 'ACTUAL POTENTIAL')\n",
    "bar2 = ax.bar(x1 + width/2, y1.Predicted_Potential,width, color = 'Navy', label = 'PREDICTED POTENTIAL')\n",
    "ax.legend()\n",
    "ax.set_title('WINGER Ratings: Actual Potential vs Predicted Potential', fontsize = 30)\n",
    "ax.set_ylabel('RATINGS',fontsize = 20)\n",
    "\n",
    "def autolabel(bars):\n",
    "    for bar in bars:\n",
    "        height = bar.get_height()\n",
    "        ax.annotate('{}'.format(height),\n",
    "                    xy=(bar.get_x() + bar.get_width() / 2, height),\n",
    "                    xytext=(0, 3),  # 3 points vertical offset\n",
    "                    textcoords=\"offset points\",\n",
    "                    ha='center', va='bottom', fontsize = 15)\n",
    "autolabel(bar1)\n",
    "autolabel(bar2)"
   ]
  },
  {
   "cell_type": "markdown",
   "metadata": {},
   "source": [
    "###### H) STRIKER / CENTRE FORWARD"
   ]
  },
  {
   "cell_type": "code",
   "execution_count": 222,
   "metadata": {},
   "outputs": [],
   "source": [
    "u23st = u23[u23.Position.isin(['ST','CF','LS','RS','LF','RF'])]"
   ]
  },
  {
   "cell_type": "code",
   "execution_count": 223,
   "metadata": {},
   "outputs": [],
   "source": [
    "u23st = u23st[['Name','Overall', 'Potential','Age','Finishing', 'ShortPassing', 'Volleys', 'Dribbling',\n",
    "               'BallControl','Reactions', 'ShotPower','LongShots', 'Positioning']]"
   ]
  },
  {
   "cell_type": "code",
   "execution_count": 224,
   "metadata": {},
   "outputs": [
    {
     "data": {
      "text/html": [
       "<div>\n",
       "<style scoped>\n",
       "    .dataframe tbody tr th:only-of-type {\n",
       "        vertical-align: middle;\n",
       "    }\n",
       "\n",
       "    .dataframe tbody tr th {\n",
       "        vertical-align: top;\n",
       "    }\n",
       "\n",
       "    .dataframe thead th {\n",
       "        text-align: right;\n",
       "    }\n",
       "</style>\n",
       "<table border=\"1\" class=\"dataframe\">\n",
       "  <thead>\n",
       "    <tr style=\"text-align: right;\">\n",
       "      <th></th>\n",
       "      <th>Overall</th>\n",
       "      <th>Potential</th>\n",
       "      <th>Age</th>\n",
       "      <th>Finishing</th>\n",
       "      <th>ShortPassing</th>\n",
       "      <th>Volleys</th>\n",
       "      <th>Dribbling</th>\n",
       "      <th>BallControl</th>\n",
       "      <th>Reactions</th>\n",
       "      <th>ShotPower</th>\n",
       "      <th>LongShots</th>\n",
       "      <th>Positioning</th>\n",
       "    </tr>\n",
       "  </thead>\n",
       "  <tbody>\n",
       "    <tr>\n",
       "      <th>Overall</th>\n",
       "      <td>1.000000</td>\n",
       "      <td>0.750288</td>\n",
       "      <td>0.491430</td>\n",
       "      <td>0.871001</td>\n",
       "      <td>0.797794</td>\n",
       "      <td>0.778632</td>\n",
       "      <td>0.823531</td>\n",
       "      <td>0.890683</td>\n",
       "      <td>0.816853</td>\n",
       "      <td>0.859662</td>\n",
       "      <td>0.757596</td>\n",
       "      <td>0.884555</td>\n",
       "    </tr>\n",
       "    <tr>\n",
       "      <th>Potential</th>\n",
       "      <td>0.750288</td>\n",
       "      <td>1.000000</td>\n",
       "      <td>-0.085565</td>\n",
       "      <td>0.688002</td>\n",
       "      <td>0.604844</td>\n",
       "      <td>0.571764</td>\n",
       "      <td>0.644675</td>\n",
       "      <td>0.699197</td>\n",
       "      <td>0.609075</td>\n",
       "      <td>0.604923</td>\n",
       "      <td>0.566466</td>\n",
       "      <td>0.662822</td>\n",
       "    </tr>\n",
       "    <tr>\n",
       "      <th>Age</th>\n",
       "      <td>0.491430</td>\n",
       "      <td>-0.085565</td>\n",
       "      <td>1.000000</td>\n",
       "      <td>0.387157</td>\n",
       "      <td>0.380210</td>\n",
       "      <td>0.389137</td>\n",
       "      <td>0.368818</td>\n",
       "      <td>0.393958</td>\n",
       "      <td>0.395640</td>\n",
       "      <td>0.465452</td>\n",
       "      <td>0.374051</td>\n",
       "      <td>0.434581</td>\n",
       "    </tr>\n",
       "    <tr>\n",
       "      <th>Finishing</th>\n",
       "      <td>0.871001</td>\n",
       "      <td>0.688002</td>\n",
       "      <td>0.387157</td>\n",
       "      <td>1.000000</td>\n",
       "      <td>0.631151</td>\n",
       "      <td>0.678935</td>\n",
       "      <td>0.652549</td>\n",
       "      <td>0.740419</td>\n",
       "      <td>0.713724</td>\n",
       "      <td>0.727355</td>\n",
       "      <td>0.705900</td>\n",
       "      <td>0.783205</td>\n",
       "    </tr>\n",
       "    <tr>\n",
       "      <th>ShortPassing</th>\n",
       "      <td>0.797794</td>\n",
       "      <td>0.604844</td>\n",
       "      <td>0.380210</td>\n",
       "      <td>0.631151</td>\n",
       "      <td>1.000000</td>\n",
       "      <td>0.657483</td>\n",
       "      <td>0.748777</td>\n",
       "      <td>0.787724</td>\n",
       "      <td>0.667476</td>\n",
       "      <td>0.641402</td>\n",
       "      <td>0.621843</td>\n",
       "      <td>0.693566</td>\n",
       "    </tr>\n",
       "    <tr>\n",
       "      <th>Volleys</th>\n",
       "      <td>0.778632</td>\n",
       "      <td>0.571764</td>\n",
       "      <td>0.389137</td>\n",
       "      <td>0.678935</td>\n",
       "      <td>0.657483</td>\n",
       "      <td>1.000000</td>\n",
       "      <td>0.685594</td>\n",
       "      <td>0.707101</td>\n",
       "      <td>0.637604</td>\n",
       "      <td>0.711690</td>\n",
       "      <td>0.662440</td>\n",
       "      <td>0.664115</td>\n",
       "    </tr>\n",
       "    <tr>\n",
       "      <th>Dribbling</th>\n",
       "      <td>0.823531</td>\n",
       "      <td>0.644675</td>\n",
       "      <td>0.368818</td>\n",
       "      <td>0.652549</td>\n",
       "      <td>0.748777</td>\n",
       "      <td>0.685594</td>\n",
       "      <td>1.000000</td>\n",
       "      <td>0.867799</td>\n",
       "      <td>0.660012</td>\n",
       "      <td>0.683874</td>\n",
       "      <td>0.640027</td>\n",
       "      <td>0.643957</td>\n",
       "    </tr>\n",
       "    <tr>\n",
       "      <th>BallControl</th>\n",
       "      <td>0.890683</td>\n",
       "      <td>0.699197</td>\n",
       "      <td>0.393958</td>\n",
       "      <td>0.740419</td>\n",
       "      <td>0.787724</td>\n",
       "      <td>0.707101</td>\n",
       "      <td>0.867799</td>\n",
       "      <td>1.000000</td>\n",
       "      <td>0.702267</td>\n",
       "      <td>0.741044</td>\n",
       "      <td>0.658429</td>\n",
       "      <td>0.753097</td>\n",
       "    </tr>\n",
       "    <tr>\n",
       "      <th>Reactions</th>\n",
       "      <td>0.816853</td>\n",
       "      <td>0.609075</td>\n",
       "      <td>0.395640</td>\n",
       "      <td>0.713724</td>\n",
       "      <td>0.667476</td>\n",
       "      <td>0.637604</td>\n",
       "      <td>0.660012</td>\n",
       "      <td>0.702267</td>\n",
       "      <td>1.000000</td>\n",
       "      <td>0.649641</td>\n",
       "      <td>0.662850</td>\n",
       "      <td>0.760821</td>\n",
       "    </tr>\n",
       "    <tr>\n",
       "      <th>ShotPower</th>\n",
       "      <td>0.859662</td>\n",
       "      <td>0.604923</td>\n",
       "      <td>0.465452</td>\n",
       "      <td>0.727355</td>\n",
       "      <td>0.641402</td>\n",
       "      <td>0.711690</td>\n",
       "      <td>0.683874</td>\n",
       "      <td>0.741044</td>\n",
       "      <td>0.649641</td>\n",
       "      <td>1.000000</td>\n",
       "      <td>0.699132</td>\n",
       "      <td>0.706216</td>\n",
       "    </tr>\n",
       "    <tr>\n",
       "      <th>LongShots</th>\n",
       "      <td>0.757596</td>\n",
       "      <td>0.566466</td>\n",
       "      <td>0.374051</td>\n",
       "      <td>0.705900</td>\n",
       "      <td>0.621843</td>\n",
       "      <td>0.662440</td>\n",
       "      <td>0.640027</td>\n",
       "      <td>0.658429</td>\n",
       "      <td>0.662850</td>\n",
       "      <td>0.699132</td>\n",
       "      <td>1.000000</td>\n",
       "      <td>0.631545</td>\n",
       "    </tr>\n",
       "    <tr>\n",
       "      <th>Positioning</th>\n",
       "      <td>0.884555</td>\n",
       "      <td>0.662822</td>\n",
       "      <td>0.434581</td>\n",
       "      <td>0.783205</td>\n",
       "      <td>0.693566</td>\n",
       "      <td>0.664115</td>\n",
       "      <td>0.643957</td>\n",
       "      <td>0.753097</td>\n",
       "      <td>0.760821</td>\n",
       "      <td>0.706216</td>\n",
       "      <td>0.631545</td>\n",
       "      <td>1.000000</td>\n",
       "    </tr>\n",
       "  </tbody>\n",
       "</table>\n",
       "</div>"
      ],
      "text/plain": [
       "               Overall  Potential       Age  Finishing  ShortPassing  \\\n",
       "Overall       1.000000   0.750288  0.491430   0.871001      0.797794   \n",
       "Potential     0.750288   1.000000 -0.085565   0.688002      0.604844   \n",
       "Age           0.491430  -0.085565  1.000000   0.387157      0.380210   \n",
       "Finishing     0.871001   0.688002  0.387157   1.000000      0.631151   \n",
       "ShortPassing  0.797794   0.604844  0.380210   0.631151      1.000000   \n",
       "Volleys       0.778632   0.571764  0.389137   0.678935      0.657483   \n",
       "Dribbling     0.823531   0.644675  0.368818   0.652549      0.748777   \n",
       "BallControl   0.890683   0.699197  0.393958   0.740419      0.787724   \n",
       "Reactions     0.816853   0.609075  0.395640   0.713724      0.667476   \n",
       "ShotPower     0.859662   0.604923  0.465452   0.727355      0.641402   \n",
       "LongShots     0.757596   0.566466  0.374051   0.705900      0.621843   \n",
       "Positioning   0.884555   0.662822  0.434581   0.783205      0.693566   \n",
       "\n",
       "               Volleys  Dribbling  BallControl  Reactions  ShotPower  \\\n",
       "Overall       0.778632   0.823531     0.890683   0.816853   0.859662   \n",
       "Potential     0.571764   0.644675     0.699197   0.609075   0.604923   \n",
       "Age           0.389137   0.368818     0.393958   0.395640   0.465452   \n",
       "Finishing     0.678935   0.652549     0.740419   0.713724   0.727355   \n",
       "ShortPassing  0.657483   0.748777     0.787724   0.667476   0.641402   \n",
       "Volleys       1.000000   0.685594     0.707101   0.637604   0.711690   \n",
       "Dribbling     0.685594   1.000000     0.867799   0.660012   0.683874   \n",
       "BallControl   0.707101   0.867799     1.000000   0.702267   0.741044   \n",
       "Reactions     0.637604   0.660012     0.702267   1.000000   0.649641   \n",
       "ShotPower     0.711690   0.683874     0.741044   0.649641   1.000000   \n",
       "LongShots     0.662440   0.640027     0.658429   0.662850   0.699132   \n",
       "Positioning   0.664115   0.643957     0.753097   0.760821   0.706216   \n",
       "\n",
       "              LongShots  Positioning  \n",
       "Overall        0.757596     0.884555  \n",
       "Potential      0.566466     0.662822  \n",
       "Age            0.374051     0.434581  \n",
       "Finishing      0.705900     0.783205  \n",
       "ShortPassing   0.621843     0.693566  \n",
       "Volleys        0.662440     0.664115  \n",
       "Dribbling      0.640027     0.643957  \n",
       "BallControl    0.658429     0.753097  \n",
       "Reactions      0.662850     0.760821  \n",
       "ShotPower      0.699132     0.706216  \n",
       "LongShots      1.000000     0.631545  \n",
       "Positioning    0.631545     1.000000  "
      ]
     },
     "execution_count": 224,
     "metadata": {},
     "output_type": "execute_result"
    }
   ],
   "source": [
    "u23st.corr()"
   ]
  },
  {
   "cell_type": "code",
   "execution_count": 225,
   "metadata": {},
   "outputs": [],
   "source": [
    "xst = u23st[['Overall','Age','Finishing', 'Dribbling',\n",
    "               'BallControl', 'ShotPower','Positioning']]\n",
    "yst = u23st[['Potential']]"
   ]
  },
  {
   "cell_type": "code",
   "execution_count": 240,
   "metadata": {},
   "outputs": [
    {
     "data": {
      "image/png": "[encoded data removed]",
      "text/plain": [
       "<Figure size 432x288 with 1 Axes>"
      ]
     },
     "metadata": {
      "needs_background": "light"
     },
     "output_type": "display_data"
    }
   ],
   "source": [
    "plt.scatter(x = xst['Finishing'], y = yst, color = 'blue')\n",
    "plt.title('Potential vs Finishing Scatter Plot', fontsize = 15)\n",
    "plt.xlabel('Pontential', fontsize = 15)\n",
    "plt.ylabel('Finishing', fontsize = 15)\n",
    "plt.show()"
   ]
  },
  {
   "cell_type": "code",
   "execution_count": 227,
   "metadata": {},
   "outputs": [],
   "source": [
    "xst_train, xst_test, yst_train, yst_test = train_test_split(xst, yst, test_size = 0.20, random_state = 0)"
   ]
  },
  {
   "cell_type": "code",
   "execution_count": 228,
   "metadata": {},
   "outputs": [],
   "source": [
    "stlr = LinearRegression()"
   ]
  },
  {
   "cell_type": "code",
   "execution_count": 229,
   "metadata": {},
   "outputs": [
    {
     "data": {
      "text/plain": [
       "LinearRegression(copy_X=True, fit_intercept=True, n_jobs=None, normalize=False)"
      ]
     },
     "execution_count": 229,
     "metadata": {},
     "output_type": "execute_result"
    }
   ],
   "source": [
    "stlr.fit(xst_train, yst_train)"
   ]
  },
  {
   "cell_type": "code",
   "execution_count": 230,
   "metadata": {},
   "outputs": [],
   "source": [
    "stpredict = stlr.predict(xst_test)"
   ]
  },
  {
   "cell_type": "code",
   "execution_count": 231,
   "metadata": {},
   "outputs": [
    {
     "name": "stdout",
     "output_type": "stream",
     "text": [
      "Intercept :  [50.97667677]\n",
      "Mean Sqaured Error :  4.602817840530803\n",
      "R2 Score :  0.863141257248628\n"
     ]
    }
   ],
   "source": [
    "print('Intercept : ',stlr.intercept_)\n",
    "print('Mean Sqaured Error : ',mean_squared_error(yst_test, stpredict))\n",
    "print('R2 Score : ', r2_score(yst_test, stpredict))"
   ]
  },
  {
   "cell_type": "code",
   "execution_count": 263,
   "metadata": {},
   "outputs": [
    {
     "data": {
      "image/png": "[encoded data removed]",
      "text/plain": [
       "<Figure size 1440x720 with 1 Axes>"
      ]
     },
     "metadata": {
      "needs_background": "light"
     },
     "output_type": "display_data"
    }
   ],
   "source": [
    "y = yst_test.head(10)\n",
    "x = np.arange(len(y))\n",
    "y1 = pd.DataFrame(stpredict, columns = ['Predicted_Potential']).head(10)\n",
    "y1.Predicted_Potential = y1.Predicted_Potential.round().astype(int)\n",
    "x1 = np.arange(len(y))\n",
    "width = 0.40\n",
    "fig,ax = plt.subplots(figsize = (20,10))\n",
    "\n",
    "bar1 = ax.bar(x - width/2,y.Potential,width, color = 'Orange', label = 'ACTUAL POTENTIAL')\n",
    "bar2 = ax.bar(x1 + width/2, y1.Predicted_Potential,width, color = 'Navy', label = 'PREDICTED POTENTIAL')\n",
    "ax.legend()\n",
    "ax.set_title('STRIKER Ratings: Actual Potential vs Predicted Potential', fontsize = 30)\n",
    "ax.set_ylabel('RATINGS',fontsize = 20)\n",
    "\n",
    "def autolabel(bars):\n",
    "    for bar in bars:\n",
    "        height = bar.get_height()\n",
    "        ax.annotate('{}'.format(height),\n",
    "                    xy=(bar.get_x() + bar.get_width() / 2, height),\n",
    "                    xytext=(0, 3),  # 3 points vertical offset\n",
    "                    textcoords=\"offset points\",\n",
    "                    ha='center', va='bottom', fontsize = 15)\n",
    "autolabel(bar1)\n",
    "autolabel(bar2)"
   ]
  },
  {
   "cell_type": "markdown",
   "metadata": {},
   "source": [
    "### --------------------------------------------- END OF CURRENT FIFA 19 PROJECT --------------------------------------------------------"
   ]
  },
  {
   "cell_type": "markdown",
   "metadata": {},
   "source": [
    "# FUTURE SCOPE OF THE PROJECT : WORK IN PROGRESS"
   ]
  },
  {
   "cell_type": "markdown",
   "metadata": {},
   "source": [
    "### Find the Best Position for a Player based on it's Attributes"
   ]
  },
  {
   "cell_type": "code",
   "execution_count": 71,
   "metadata": {},
   "outputs": [
    {
     "data": {
      "text/plain": [
       "Index(['Unnamed: 0', 'ID', 'Name', 'Age', 'Photo', 'Nationality', 'Flag',\n",
       "       'Overall', 'Potential', 'Club', 'Club Logo', 'Value', 'Wage', 'Special',\n",
       "       'Preferred Foot', 'International Reputation', 'Weak Foot',\n",
       "       'Skill Moves', 'Work Rate', 'Body Type', 'Real Face', 'Position',\n",
       "       'Jersey Number', 'Joined', 'Loaned From', 'Contract Valid Until',\n",
       "       'Height', 'Weight', 'LS', 'ST', 'RS', 'LW', 'LF', 'CF', 'RF', 'RW',\n",
       "       'LAM', 'CAM', 'RAM', 'LM', 'LCM', 'CM', 'RCM', 'RM', 'LWB', 'LDM',\n",
       "       'CDM', 'RDM', 'RWB', 'LB', 'LCB', 'CB', 'RCB', 'RB', 'Crossing',\n",
       "       'Finishing', 'HeadingAccuracy', 'ShortPassing', 'Volleys', 'Dribbling',\n",
       "       'Curve', 'FKAccuracy', 'LongPassing', 'BallControl', 'Acceleration',\n",
       "       'SprintSpeed', 'Agility', 'Reactions', 'Balance', 'ShotPower',\n",
       "       'Jumping', 'Stamina', 'Strength', 'LongShots', 'Aggression',\n",
       "       'Interceptions', 'Positioning', 'Vision', 'Penalties', 'Composure',\n",
       "       'Marking', 'StandingTackle', 'SlidingTackle', 'GKDiving', 'GKHandling',\n",
       "       'GKKicking', 'GKPositioning', 'GKReflexes', 'Release Clause'],\n",
       "      dtype='object')"
      ]
     },
     "execution_count": 71,
     "metadata": {},
     "output_type": "execute_result"
    }
   ],
   "source": [
    "data.columns"
   ]
  },
  {
   "cell_type": "code",
   "execution_count": null,
   "metadata": {},
   "outputs": [],
   "source": []
  },
  {
   "cell_type": "code",
   "execution_count": 128,
   "metadata": {},
   "outputs": [],
   "source": [
    "bestposition = data[['Name','Age','Position','Crossing', 'Finishing', 'HeadingAccuracy', 'ShortPassing', \n",
    "                     'Volleys', 'Dribbling', 'Curve', 'FKAccuracy', 'LongPassing', 'BallControl', 'Acceleration',\n",
    "                     'SprintSpeed', 'Agility', 'Reactions', 'Balance', 'ShotPower', 'Jumping', 'Stamina', 'Strength',\n",
    "                     'LongShots', 'Aggression', 'Interceptions', 'Positioning', 'Vision', 'Penalties', 'Composure', \n",
    "                     'Marking', 'StandingTackle', 'SlidingTackle', 'GKDiving', 'GKHandling', 'GKKicking', \n",
    "                     'GKPositioning', 'GKReflexes']]"
   ]
  },
  {
   "cell_type": "code",
   "execution_count": 131,
   "metadata": {},
   "outputs": [
    {
     "name": "stderr",
     "output_type": "stream",
     "text": [
      "C:\\ProgramData\\Anaconda3\\lib\\site-packages\\ipykernel_launcher.py:1: SettingWithCopyWarning: \n",
      "A value is trying to be set on a copy of a slice from a DataFrame\n",
      "\n",
      "See the caveats in the documentation: http://pandas.pydata.org/pandas-docs/stable/indexing.html#indexing-view-versus-copy\n",
      "  \"\"\"Entry point for launching an IPython kernel.\n"
     ]
    }
   ],
   "source": [
    "bestposition.dropna(inplace = True)"
   ]
  },
  {
   "cell_type": "code",
   "execution_count": 132,
   "metadata": {},
   "outputs": [],
   "source": [
    "posX = bestposition[['Crossing', 'Finishing', 'HeadingAccuracy', 'ShortPassing', 'Volleys', 'Dribbling', 'Curve',\n",
    "                     'FKAccuracy', 'LongPassing', 'BallControl', 'Acceleration', 'SprintSpeed', 'Agility', 'Reactions',\n",
    "                     'Balance', 'ShotPower', 'Jumping', 'Stamina', 'Strength', 'LongShots', 'Aggression', \n",
    "                     'Interceptions', 'Positioning', 'Vision', 'Penalties', 'Composure', 'Marking', 'StandingTackle', \n",
    "                     'SlidingTackle', 'GKDiving', 'GKHandling',\n",
    "                     'GKKicking', 'GKPositioning', 'GKReflexes']].values \n",
    "posY = bestposition[['Position']].values"
   ]
  },
  {
   "cell_type": "code",
   "execution_count": null,
   "metadata": {},
   "outputs": [],
   "source": []
  },
  {
   "cell_type": "code",
   "execution_count": 136,
   "metadata": {},
   "outputs": [
    {
     "name": "stderr",
     "output_type": "stream",
     "text": [
      "C:\\ProgramData\\Anaconda3\\lib\\site-packages\\ipykernel_launcher.py:11: DataConversionWarning: A column-vector y was passed when a 1d array was expected. Please change the shape of y to (n_samples, ), for example using ravel().\n",
      "  # This is added back by InteractiveShellApp.init_path()\n"
     ]
    }
   ],
   "source": [
    "from sklearn import preprocessing \n",
    "from sklearn.model_selection import train_test_split \n",
    "from sklearn.neighbors import KNeighborsClassifier\n",
    "from sklearn import metrics\n",
    "\n",
    "posX = preprocessing.StandardScaler().fit(posX).transform(posX.astype(float))\n",
    "\n",
    "x_train, x_test, y_train, y_test = train_test_split(posX, posY, test_size = 0.2, random_state = 0)\n",
    "\n",
    "k = 1 \n",
    "knn = KNeighborsClassifier(n_neighbors = k).fit(x_train, y_train)"
   ]
  },
  {
   "cell_type": "code",
   "execution_count": 137,
   "metadata": {},
   "outputs": [],
   "source": [
    "predictposition = knn.predict(x_test)"
   ]
  },
  {
   "cell_type": "code",
   "execution_count": 139,
   "metadata": {},
   "outputs": [
    {
     "name": "stdout",
     "output_type": "stream",
     "text": [
      "Test set Accuracy:  0.41460055096418735\n"
     ]
    }
   ],
   "source": [
    "print(\"Test set Accuracy: \", metrics.accuracy_score(y_test, predictposition))"
   ]
  },
  {
   "cell_type": "code",
   "execution_count": 141,
   "metadata": {},
   "outputs": [
    {
     "name": "stdout",
     "output_type": "stream",
     "text": [
      "[['CM']\n",
      " ['LW']\n",
      " ['RCB']\n",
      " ['LB']\n",
      " ['RM']\n",
      " ['ST']\n",
      " ['GK']\n",
      " ['LB']\n",
      " ['RB']\n",
      " ['RW']\n",
      " ['LCB']\n",
      " ['CAM']\n",
      " ['LB']\n",
      " ['CAM']\n",
      " ['GK']\n",
      " ['GK']\n",
      " ['CB']\n",
      " ['GK']\n",
      " ['GK']\n",
      " ['LDM']]\n",
      "['CM' 'LM' 'CB' 'LCB' 'RM' 'ST' 'GK' 'LB' 'RB' 'CAM' 'LCB' 'RW' 'CDM'\n",
      " 'CAM' 'GK' 'GK' 'CB' 'GK' 'GK' 'CM']\n"
     ]
    }
   ],
   "source": [
    "print(y_test[0:20])\n",
    "print(predictposition[0:20])"
   ]
  },
  {
   "cell_type": "code",
   "execution_count": null,
   "metadata": {},
   "outputs": [],
   "source": []
  }
 ],
 "metadata": {
  "kernelspec": {
   "display_name": "Python 3",
   "language": "python",
   "name": "python3"
  },
  "language_info": {
   "codemirror_mode": {
    "name": "ipython",
    "version": 3
   },
   "file_extension": ".py",
   "mimetype": "text/x-python",
   "name": "python",
   "nbconvert_exporter": "python",
   "pygments_lexer": "ipython3",
   "version": "3.7.3"
  }
 },
 "nbformat": 4,
 "nbformat_minor": 2
}
